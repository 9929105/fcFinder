{
 "cells": [
  {
   "cell_type": "code",
   "execution_count": 1,
   "metadata": {
    "collapsed": true
   },
   "outputs": [],
   "source": [
    "import re\n",
    "import os"
   ]
  },
  {
   "cell_type": "code",
   "execution_count": 4,
   "metadata": {
    "collapsed": false
   },
   "outputs": [],
   "source": [
    "modifiers = \"\"\"abdomen\n",
    "abdomen wall\n",
    "abdominal\n",
    "abdominal wall subcutaneous\n",
    "bowel\n",
    "colon\n",
    "colonic\n",
    "fascia\n",
    "gallbladder\n",
    "gastroesophageal\n",
    "groin\n",
    "hepaticobiliary limb\n",
    "incision\n",
    "interloop\n",
    "intra-abdominal\n",
    "intraabdominal\n",
    "intrahepatic\n",
    "intrapelvic\n",
    "IVC\n",
    "jejunojejunal anastomosis\n",
    "Left lower quadrant\n",
    "lesser sac\n",
    "liver\n",
    "LUQ\n",
    "mesenteric\n",
    "mesentery\n",
    "Morison's pouch\n",
    "Morison's sac\n",
    "omental\n",
    "omental\n",
    "pancreas\n",
    "pancreatic\n",
    "paracolic\n",
    "paracolic gutter\n",
    "pararenal\n",
    "pelvic\n",
    "pericolic\n",
    "perihepatic\n",
    "peripancreatic\n",
    "peritoneal\n",
    "resection bed\n",
    "retroperitoneal\n",
    "right lower quadrant\n",
    "ruq\n",
    "segment VI\n",
    "splenic\n",
    "stomach\n",
    "subdiaphragmatic\n",
    "subhepatic\n",
    "subpleural\"\"\"\n",
    "targets = \"\"\"fluid collection\n",
    "abscess\n",
    "loculated collection\n",
    "hematoma\n",
    "drainage \n",
    "complex fluid\n",
    "heterogeneous collection\"\"\"\n",
    "\n",
    "targets.replace('\\n', ' ')\n",
    "targets += 'abscesses '\n",
    "targets += 'fluid-collection '\n",
    "targets += 'collection of fluid '\n",
    "targets += 'fluid collections'\n",
    "targets += 'collections of fluid'\n",
    "\n",
    "modifiers += 'intra abdominal'"
   ]
  },
  {
   "cell_type": "markdown",
   "metadata": {},
   "source": [
    "## Modifiers"
   ]
  },
  {
   "cell_type": "code",
   "execution_count": 5,
   "metadata": {
    "collapsed": false
   },
   "outputs": [
    {
     "data": {
      "text/plain": [
       "''"
      ]
     },
     "execution_count": 5,
     "metadata": {},
     "output_type": "execute_result"
    }
   ],
   "source": [
    "\n",
    "\n",
    "#targets\n",
    "modifiers.replace('\\n',' ')\n",
    "''"
   ]
  },
  {
   "cell_type": "code",
   "execution_count": 6,
   "metadata": {
    "collapsed": true
   },
   "outputs": [],
   "source": [
    "regexes_modifiers = [\"liver\",\"[intra]*[-]* *abdom[a-z]*\",\"\"\"abdom[a-z]* wall\"\"\"]"
   ]
  },
  {
   "cell_type": "code",
   "execution_count": 7,
   "metadata": {
    "collapsed": false
   },
   "outputs": [
    {
     "data": {
      "text/plain": [
       "['liver']"
      ]
     },
     "execution_count": 7,
     "metadata": {},
     "output_type": "execute_result"
    }
   ],
   "source": [
    "r_liver = re.compile(r\"\"\"liver\"\"\")\n",
    "r_liver.findall(modifiers)"
   ]
  },
  {
   "cell_type": "code",
   "execution_count": 39,
   "metadata": {
    "collapsed": false
   },
   "outputs": [
    {
     "data": {
      "text/plain": [
       "['abdomen',\n",
       " 'abdomen wall',\n",
       " 'abdominal',\n",
       " 'abdominal wall',\n",
       " 'intra-abdominal',\n",
       " 'intraabdominal',\n",
       " 'intra abdominal']"
      ]
     },
     "execution_count": 39,
     "metadata": {},
     "output_type": "execute_result"
    }
   ],
   "source": [
    "r_abdomen = re.compile(r\"\"\"[intra]*[-]* *abdom[a-z]* *[wall]*\"\"\")\n",
    "r_abdomen.findall(modifiers)"
   ]
  },
  {
   "cell_type": "code",
   "execution_count": 15,
   "metadata": {
    "collapsed": false
   },
   "outputs": [
    {
     "data": {
      "text/plain": [
       "['abdomen wall', 'abdominal wall']"
      ]
     },
     "execution_count": 15,
     "metadata": {},
     "output_type": "execute_result"
    }
   ],
   "source": [
    "r_wall = re.compile(r\"\"\"abdom[a-z]* wall\"\"\")\n",
    "r_wall.findall(modifiers)"
   ]
  },
  {
   "cell_type": "code",
   "execution_count": null,
   "metadata": {
    "collapsed": true
   },
   "outputs": [],
   "source": []
  },
  {
   "cell_type": "markdown",
   "metadata": {},
   "source": [
    "## Targets"
   ]
  },
  {
   "cell_type": "code",
   "execution_count": 20,
   "metadata": {
    "collapsed": false
   },
   "outputs": [],
   "source": [
    "regexes_targets = \\\n",
    "[\"abscess[a-z]*\",\"complex fluids*\",\"loculated collections*\",\"hematoma*\",\n",
    " \"heterogeneous collections*\",\"abscess[es]*\",\"collections* of fluid*|fluid collection[s]*\"]\n"
   ]
  },
  {
   "cell_type": "code",
   "execution_count": 54,
   "metadata": {
    "collapsed": false
   },
   "outputs": [
    {
     "data": {
      "text/plain": [
       "['fluid collection', 'fluid collections']"
      ]
     },
     "execution_count": 54,
     "metadata": {},
     "output_type": "execute_result"
    }
   ],
   "source": [
    "#simple fluid collection \n",
    "r_collection1 = re.compile(r\"\"\"fluid[s]* collection[s]*\"\"\")\n",
    "\n",
    "r_collection1.findall(targets)"
   ]
  },
  {
   "cell_type": "code",
   "execution_count": 16,
   "metadata": {
    "collapsed": false
   },
   "outputs": [
    {
     "data": {
      "text/plain": [
       "['collection of fluid', 'collections of fluid']"
      ]
     },
     "execution_count": 16,
     "metadata": {},
     "output_type": "execute_result"
    }
   ],
   "source": [
    "#collections of fluid\n",
    "r_collection2 = re.compile(r\"\"\"collections* of fluid[s]*\"\"\")\n",
    "r_collection2.findall(targets)"
   ]
  },
  {
   "cell_type": "code",
   "execution_count": 31,
   "metadata": {
    "collapsed": false
   },
   "outputs": [
    {
     "data": {
      "text/plain": [
       "['fluid collection', 'fluid collection', 'collection of fluid']"
      ]
     },
     "execution_count": 31,
     "metadata": {},
     "output_type": "execute_result"
    }
   ],
   "source": [
    "#combine both fluid collections\n",
    "r_collection3 = re.compile(r\"\"\"(collections* of fluid*|fluid collection[s]*)\"\"\")\n",
    "\n",
    "sentence = 'There is a fluid collection and heterogeneous collections in the abdomen.\\\n",
    "There is a fluid collection and a collection of fluid.'\n",
    "r_collection3.findall(sentence)"
   ]
  },
  {
   "cell_type": "code",
   "execution_count": 58,
   "metadata": {
    "collapsed": false
   },
   "outputs": [
    {
     "data": {
      "text/plain": [
       "['loculated collection']"
      ]
     },
     "execution_count": 58,
     "metadata": {},
     "output_type": "execute_result"
    }
   ],
   "source": [
    "# 'loculated collection'\n",
    "r_loc = re.compile(r\"\"\"loculated collections*\"\"\")\n",
    "r_loc.findall(targets)"
   ]
  },
  {
   "cell_type": "code",
   "execution_count": 61,
   "metadata": {
    "collapsed": false
   },
   "outputs": [
    {
     "data": {
      "text/plain": [
       "['hematoma']"
      ]
     },
     "execution_count": 61,
     "metadata": {},
     "output_type": "execute_result"
    }
   ],
   "source": [
    "# 'hematoma'\n",
    "r_hemat = re.compile(r\"\"\"hematoma*\"\"\")\n",
    "r_hemat.findall(targets)"
   ]
  },
  {
   "cell_type": "code",
   "execution_count": 62,
   "metadata": {
    "collapsed": false
   },
   "outputs": [
    {
     "data": {
      "text/plain": [
       "['complex fluid']"
      ]
     },
     "execution_count": 62,
     "metadata": {},
     "output_type": "execute_result"
    }
   ],
   "source": [
    "# 'complex fluid'\n",
    "r_complex = re.compile(r\"\"\"complex fluids*\"\"\")\n",
    "r_complex.findall(targets)"
   ]
  },
  {
   "cell_type": "code",
   "execution_count": 64,
   "metadata": {
    "collapsed": false
   },
   "outputs": [
    {
     "data": {
      "text/plain": [
       "['heterogeneous collection']"
      ]
     },
     "execution_count": 64,
     "metadata": {},
     "output_type": "execute_result"
    }
   ],
   "source": [
    "# 'heterogeneous collection'\n",
    "r_hetero = re.compile(r\"\"\"heterogeneous collections*\"\"\")\n",
    "r_hetero.findall(targets)"
   ]
  },
  {
   "cell_type": "code",
   "execution_count": 21,
   "metadata": {
    "collapsed": false
   },
   "outputs": [
    {
     "data": {
      "text/plain": [
       "['abscess', 'abscesses']"
      ]
     },
     "execution_count": 21,
     "metadata": {},
     "output_type": "execute_result"
    }
   ],
   "source": [
    "#abscess\n",
    "r_abscess = re.compile(r\"\"\"abscess[es]*\"\"\")\n",
    "r_abscess.findall(targets)"
   ]
  },
  {
   "cell_type": "code",
   "execution_count": null,
   "metadata": {
    "collapsed": true
   },
   "outputs": [],
   "source": []
  }
 ],
 "metadata": {
  "anaconda-cloud": {},
  "kernelspec": {
   "display_name": "Python [default]",
   "language": "python",
   "name": "python3"
  },
  "language_info": {
   "codemirror_mode": {
    "name": "ipython",
    "version": 3
   },
   "file_extension": ".py",
   "mimetype": "text/x-python",
   "name": "python",
   "nbconvert_exporter": "python",
   "pygments_lexer": "ipython3",
   "version": "3.5.2"
  }
 },
 "nbformat": 4,
 "nbformat_minor": 1
}
