{
 "cells": [
  {
   "cell_type": "code",
   "execution_count": 1,
   "metadata": {
    "collapsed": true
   },
   "outputs": [],
   "source": [
    "import pyConTextNLP.pyConTextGraph as pyConText\n",
    "import pyConTextNLP.itemData as itemData\n",
    "from textblob import TextBlob\n",
    "import networkx as nx\n",
    "import pyConTextNLP.display.html as html\n",
    "from IPython.display import display, HTML\n",
    "import os"
   ]
  },
  {
   "cell_type": "code",
   "execution_count": 2,
   "metadata": {
    "collapsed": true
   },
   "outputs": [],
   "source": [
    "def markup_sentence(s, modifiers, targets, prune_inactive=False):\n",
    "    \"\"\"\n",
    "    \"\"\"\n",
    "    markup = pyConText.ConTextMarkup()\n",
    "    markup.setRawText(s)\n",
    "    markup.cleanText()\n",
    "    markup.markItems(modifiers, mode=\"modifier\")\n",
    "    markup.markItems(targets, mode=\"target\")\n",
    "    markup.pruneMarks()\n",
    "    markup.dropMarks('Exclusion')\n",
    "    # apply modifiers to any targets within the modifiers scope\n",
    "    markup.applyModifiers()\n",
    "    markup.pruneSelfModifyingRelationships()\n",
    "    if prune_inactive:\n",
    "        markup.dropInactiveModifiers()\n",
    "    return markup"
   ]
  },
  {
   "cell_type": "code",
   "execution_count": 4,
   "metadata": {
    "collapsed": false
   },
   "outputs": [
    {
     "name": "stdout",
     "output_type": "stream",
     "text": [
      "4\n"
     ]
    },
    {
     "data": {
      "text/html": [
       "<p> <span style=\"color: green;\">multiloculated fluid</span>, <span style=\"color: green;\">multiloculated collections</span>, <span style=\"color: green;\">Fluid collection</span>, <span style=\"color: green;\">fluid collections</span>,<span style=\"color: green;\">collection of fluid</span>, <span style=\"color: green;\">collections of fluid</span>, <span style=\"color: green;\">ABSCESS</span>, <span style=\"color: green;\">abscesses</span>,<span style=\"color: green;\">loculated collection</span>, <span style=\"color: green;\">loculated collections</span>, <span style=\"color: green;\">hematoma</span>, <span style=\"color: green;\">hematomas</span>, <span style=\"color: green;\">drainage</span>, <span style=\"color: green;\">complex fluid</span>, <span style=\"color: green;\">complex fluids</span>, <span style=\"color: green;\">heterogeneous collection</span>, <span style=\"color: green;\">heterogeneous collections</span>, nothing. <span style=\"color: orange;\">nephric</span>, <span style=\"color: orange;\">perinephric</span>, <span style=\"color: orange;\">fascia</span>, <span style=\"color: orange;\">fascial</span>, <span style=\"color: orange;\">mesentery</span>, <span style=\"color: orange;\">mesenteric</span>, <span style=\"color: orange;\">groin</span>, <span style=\"color: orange;\">inguinal</span>, <span style=\"color: orange;\">segment II</span>, <span style=\"color: orange;\">segment V</span>, <span style=\"color: orange;\">segment I</span>, <span style=\"color: orange;\">segment VI</span>, <span style=\"color: orange;\">hepatic</span>, <span style=\"color: orange;\">perihepatic</span>, <span style=\"color: orange;\">subhepatic</span>, <span style=\"color: orange;\">gastroesophageal</span>, <span style=\"color: orange;\">peritoneum</span>, <span style=\"color: orange;\">peritoneal</span>, <span style=\"color: orange;\">retroperitoneum</span>, <span style=\"color: orange;\">retroperitoneal</span>, <span style=\"color: orange;\">incision</span>,<span style=\"color: orange;\">spleen</span>, <span style=\"color: orange;\">splenic</span>, <span style=\"color: orange;\">spleenic</span>, <span style=\"color: orange;\">pericolic</span>, <span style=\"color: orange;\">intrapelvic</span>, <span style=\"color: orange;\">subdiaphragm</span>, <span style=\"color: orange;\">subdiaphragmatic</span>, <span style=\"color: orange;\">diaphragm</span>, <span style=\"color: orange;\">diaphragmatic</span>,<span style=\"color: orange;\">renal</span>, <span style=\"color: orange;\">pararenal</span>,<span style=\"color: orange;\">inferior vena cava</span>, <span style=\"color: orange;\">ivc</span>, <span style=\"color: orange;\">lesser sac</span>,<span style=\"color: orange;\">omentum</span>, <span style=\"color: orange;\">omental</span>, <span style=\"color: orange;\">left lower quadrant</span>, <span style=\"color: orange;\">llq</span>, <span style=\"color: orange;\">left upper quadrant</span>, <span style=\"color: orange;\">LUQ</span>, <span style=\"color: orange;\">right upper quadrant</span>, <span style=\"color: orange;\">RUQ</span>,<span style=\"color: orange;\">right lower quadrant</span>, <span style=\"color: orange;\">RLQ</span>, <span style=\"color: orange;\">gallbladder</span>, <span style=\"color: orange;\">morison's pouch</span>, <span style=\"color: orange;\">morison's sac</span>, <span style=\"color: orange;\">morrison's pouch</span>, <span style=\"color: orange;\">hepatic</span>, <span style=\"color: orange;\">intrahepatic</span>, <span style=\"color: orange;\">stomach</span>, <span style=\"color: orange;\">subpleural</span>, <span style=\"color: orange;\">resection bed</span>, <span style=\"color: orange;\">colon</span>, <span style=\"color: orange;\">colonic</span>, <span style=\"color: orange;\">paracolic</span>, <span style=\"color: orange;\">paracolic gutter</span>, <span style=\"color: orange;\">pelvis</span>, <span style=\"color: orange;\">pelvic</span>, <span style=\"color: orange;\">bowel</span>, <span style=\"color: orange;\">bowels</span>, <span style=\"color: orange;\">pancreas</span>, <span style=\"color: orange;\">pancreatic</span>, <span style=\"color: orange;\">peripancreatic</span>, <span style=\"color: orange;\">liver</span>,<span style=\"color: orange;\"> abdomen</span>,<span style=\"color: orange;\"> abdominal</span>, <span style=\"color: orange;\">intraabdominal</span>, <span style=\"color: orange;\">intra-abdominal</span>, <span style=\"color: orange;\">intra abdominal</span>,<span style=\"color: orange;\">abdomen wall</span>,<span style=\"color: orange;\"> abdominal wall</span>,<span style=\"color: orange;\">liver</span>, <span style=\"color: green;\">fluid collections</span>  <span style=\"color: blue;\">without</span>, <span style=\"color: blue;\">there is no</span>, <span style=\"color: blue;\">there are no</span>, <span style=\"color: blue;\">has been ruled out</span>, <span style=\"color: blue;\">have been ruled out</span>, <span style=\"color: blue;\">can be ruled out</span>, <span style=\"color: blue;\">could be ruled out</span> <span style=\"color: blue;\">is ruled out</span>, <span style=\"color: blue;\">are ruled out</span>, <span style=\"color: blue;\">no evidence</span>, <span style=\"color: purple;\">rule out</span>, <span style=\"color: purple;\">evaluation of</span>, <span style=\"color: purple;\">evaluate for</span>, <span style=\"color: purple;\">reason</span>, <span style=\"color: purple;\">reason for exam</span> </p>"
      ],
      "text/plain": [
       "<IPython.core.display.HTML object>"
      ]
     },
     "metadata": {},
     "output_type": "display_data"
    }
   ],
   "source": [
    "#You'll have to change the file name so that it works on your computer\n",
    "modifiers = itemData.instantiateFromCSVtoitemData(\"/Users/alec/Box Sync/Bucher_Surgical_MIMICIII/pyConText_implement/modifiers.tsv\")\n",
    "targets = itemData.instantiateFromCSVtoitemData(\n",
    "    \"file:///Users/alec/Box Sync/Bucher_Surgical_MIMICIII/pyConText_implement/targets.tsv\")\n",
    "\n",
    "\n",
    "sentences = [\n",
    "\"multiloculated fluid, multiloculated collections, Fluid collection, fluid collections,collection of fluid, collections of fluid, ABSCESS, abscesses,\\\n",
    "loculated collection, loculated collections, hematoma, hematomas, drainage, complex fluid,\\\n",
    "\\n \\n complex fluids, heterogeneous collection, heterogeneous collections, nothing.\"\n",
    ",\"nephric, perinephric, fascia, fascial, mesentery, mesenteric, groin, inguinal, segment II, segment V, segment I, segment VI, hepatic, perihepatic, subhepatic, gastroesophageal, peritoneum, peritoneal, retroperitoneum, retroperitoneal, incision,spleen, splenic, spleenic, pericolic, intrapelvic, subdiaphragm, subdiaphragmatic, diaphragm, diaphragmatic,renal, pararenal,inferior vena cava, ivc, lesser sac,omentum, omental, left lower quadrant, llq, left upper quadrant, LUQ, right upper quadrant, RUQ,right lower quadrant, RLQ, gallbladder, morison's pouch, morison's sac, morrison's pouch, hepatic, intrahepatic, stomach, subpleural, resection bed, colon, colonic, paracolic, paracolic gutter, pelvis, pelvic, bowel, bowels, pancreas, pancreatic, peripancreatic, liver, abdomen, abdominal, intraabdominal, intra-abdominal, intra abdominal,\\\n",
    "abdomen wall, abdominal wall,liver, fluid collections \",\n",
    "'without, there is no, there are no, has been ruled out, have been ruled out, can be ruled out, could be ruled out is ruled out, are ruled out, no evidence, rule out, evaluation of, evaluate for, reason, reason for exam',\n",
    "'There is no evidence of abscess or abscesses in the abdominal wall hello abdomen b and it is without fluid collection.']\n",
    "print(len(sentences))\n",
    "markup1 = markup_sentence(sentences[0], modifiers, targets)\n",
    "markup2 = markup_sentence(sentences[1],modifiers,targets)\n",
    "markup3 = markup_sentence(sentences[2], modifiers, targets)\n",
    "markup4 = markup_sentence(sentences[3],modifiers,targets)\n",
    "\n",
    "\n",
    "\n",
    "\n",
    "\n",
    "markups = [markup1, markup2, markup3]\n",
    "#markups = [markup2]\n",
    "context_short = pyConText.ConTextDocument()\n",
    "for m in markups:\n",
    "    context_short.addMarkup(m)\n",
    "\n",
    "clrs = {\\\n",
    "    \"anatomy\": \"orange\",\n",
    "    \"fluid_collection\": \"green\",\n",
    "    \"indication\": \"purple\",\n",
    "    \"definite_negated_existence\":\"blue\"}\n",
    "    \n",
    "display(HTML(html.mark_document_with_html(context_short,colors = clrs, default_color=\"black\")))\n",
    "\n",
    "#NOTE:this is not working with \"without\" or \"there is no\", so I'll have to work on that \n",
    "\n",
    "\n",
    "\n"
   ]
  },
  {
   "cell_type": "code",
   "execution_count": null,
   "metadata": {
    "collapsed": true
   },
   "outputs": [],
   "source": []
  },
  {
   "cell_type": "markdown",
   "metadata": {},
   "source": [
    "modifiers = itemData.instantiateFromCSVtoitemData(\"file:///Users/alec/Box Sync/Bucher_Surgical_MIMICIII/pyConText_implement/modifiers.tsv\")\n",
    "#modifiers = itemData.instantiateFromCSVtoitemData(\"/Users/alec/modifiers_backup.tsv\")\n",
    "targets = itemData.instantiateFromCSVtoitemData(\n",
    "    \"file:///Users/alec/Box Sync/Bucher_Surgical_MIMICIII/pyConText_implement/targets.tsv\")\n",
    "\n",
    "sentence = \"Fluid collection, fluid collections,collection of fluid, collections of fluid, ABSCESS, abscesses,\\\n",
    "loculated collection, loculated collections, hematoma, hematomas, drainage, complex fluid,\\\n",
    "\\n \\n complex fluids, heterogeneous collection, heterogeneous collections, nothing\"\n",
    "markup1 = markup_sentence(sentence, modifiers, targets)\n",
    "\n",
    "sentence2 = \"abdomen, abdominal, intraabdominal, intra-abdominal, intra abdominal,\\\n",
    "abdomen wall, abdominal wall, liver\"\n",
    "markup2 = markup_sentence(sentence2,modifiers,targets)\n",
    "\n",
    "context = pyConText.ConTextDocument()\n",
    "context.addMarkup(markup1)\n",
    "context.addMarkup(markup2)\n",
    "\n",
    "clrs = {\\\n",
    "    \"anatomy\": \"orange\",\n",
    "    \"fluid_collection\": \"green\",\n",
    "    \"indication\": \"purple\",\n",
    "    \"definite_negated_existence\":\"blue\"\n",
    "    }\n",
    "display(HTML(html.mark_document_with_html(context,colors = clrs, default_color=\"black\")))"
   ]
  },
  {
   "cell_type": "code",
   "execution_count": null,
   "metadata": {
    "collapsed": true
   },
   "outputs": [],
   "source": []
  }
 ],
 "metadata": {
  "anaconda-cloud": {},
  "kernelspec": {
   "display_name": "Python [default]",
   "language": "python",
   "name": "python3"
  },
  "language_info": {
   "codemirror_mode": {
    "name": "ipython",
    "version": 3
   },
   "file_extension": ".py",
   "mimetype": "text/x-python",
   "name": "python",
   "nbconvert_exporter": "python",
   "pygments_lexer": "ipython3",
   "version": "3.5.2"
  }
 },
 "nbformat": 4,
 "nbformat_minor": 1
}
