{
 "cells": [
  {
   "cell_type": "markdown",
   "metadata": {},
   "source": [
    "# Processing Multisentence Documents"
   ]
  },
  {
   "cell_type": "code",
   "execution_count": 1,
   "metadata": {
    "collapsed": false
   },
   "outputs": [],
   "source": [
    "import pyConTextNLP.pyConTextGraph as pyConText\n",
    "import pyConTextNLP.itemData as itemData\n",
    "from textblob import TextBlob\n",
    "import networkx as nx\n",
    "import pyConTextNLP.display.html as html\n",
    "from IPython.display import display, HTML\n",
    "import os"
   ]
  },
  {
   "cell_type": "code",
   "execution_count": null,
   "metadata": {
    "collapsed": false
   },
   "outputs": [],
   "source": []
  },
  {
   "cell_type": "code",
   "execution_count": 2,
   "metadata": {
    "collapsed": false
   },
   "outputs": [],
   "source": [
    "user_domain = os.path.expanduser('~')"
   ]
  },
  {
   "cell_type": "markdown",
   "metadata": {},
   "source": [
    "## Define ``markup_sentence``\n",
    "\n",
    "We are putting the functionality we went through in the previous two notebooks ([BasicSentenceMarkup](./BasicSentenceMarkup.ipynb) and [BasicSentenceMarkupPart2](BasicSentenceMarkupPart2.ipynb)) into a function ``markup_sentence``. We add one step to the function: ``dropInactiveModifiers`` will delete any modifier node that does not get attached to a target node."
   ]
  },
  {
   "cell_type": "code",
   "execution_count": 3,
   "metadata": {
    "collapsed": true
   },
   "outputs": [],
   "source": [
    "def markup_sentence(s, modifiers, targets, prune_inactive=True):\n",
    "    \"\"\"\n",
    "    \"\"\"\n",
    "    markup = pyConText.ConTextMarkup()\n",
    "    markup.setRawText(s)\n",
    "    markup.cleanText()\n",
    "    markup.markItems(modifiers, mode=\"modifier\")\n",
    "    markup.markItems(targets, mode=\"target\")\n",
    "    markup.pruneMarks()\n",
    "    markup.dropMarks('Exclusion')\n",
    "    # apply modifiers to any targets within the modifiers scope\n",
    "    markup.applyModifiers()\n",
    "    markup.pruneSelfModifyingRelationships()\n",
    "    if prune_inactive:\n",
    "        markup.dropInactiveModifiers()\n",
    "    return markup"
   ]
  },
  {
   "cell_type": "markdown",
   "metadata": {
    "collapsed": false
   },
   "source": [
    "### Test on a couple of single sentences"
   ]
  },
  {
   "cell_type": "code",
   "execution_count": 4,
   "metadata": {
    "collapsed": false
   },
   "outputs": [
    {
     "name": "stdout",
     "output_type": "stream",
     "text": [
      "[<id> 284301838825675093358783961289817775056 </id> <phrase>  abdomen </phrase> <category> ['anatomy'] </category> , <id> 284309041299472940101896920974426037200 </id> <phrase> abscess </phrase> <category> ['fluid_collection'] </category> , <id> 284308737063328885327816998459866012624 </id> <phrase> fluid collection </phrase> <category> ['fluid_collection'] </category> , <id> 284246182467615747919461748409206496208 </id> <phrase> liver </phrase> <category> ['anatomy'] </category> , <id> 284307422826569098708079612043210447824 </id> <phrase> evaluate for </phrase> <category> ['indication'] </category> , <id> 284309240320617175935705670083499449296 </id> <phrase> loculated collection </phrase> <category> ['fluid_collection'] </category> , <id> 284308715830181331503893940954495114192 </id> <phrase> fluid collections </phrase> <category> ['fluid_collection'] </category> ] \n",
      " __________________________________________ \n",
      "\n",
      "True\n",
      "True\n"
     ]
    },
    {
     "data": {
      "text/plain": [
       "<id> 284313017127124230916446255992848964560 </id> <phrase> collection of fluid </phrase> <category> ['fluid_collection'] </category> "
      ]
     },
     "execution_count": 4,
     "metadata": {},
     "output_type": "execute_result"
    }
   ],
   "source": [
    "#You'll have to change the file name so that it works on your computer\n",
    "modifiers = itemData.instantiateFromCSVtoitemData(\"/Users/alec/Box Sync/Bucher_Surgical_MIMICIII/pyConText_implement/modifiers.tsv\")\n",
    "targets = itemData.instantiateFromCSVtoitemData(\n",
    "    \"file:///Users/alec/Box Sync/Bucher_Surgical_MIMICIII/pyConText_implement/targets.tsv\")\n",
    "\n",
    "\n",
    "sentences = ['please evaluate for fistula, perforation, loculated collection, fluid collections, fluid collection, abscess in the liver or abdomen, no contraindications for iv contrast ',\n",
    "'There is no evidence of abscess or abscesses in the abdomen and it is without fluid collection.',\n",
    "'There is a fluid collection and heterogeneous collection and heterogeneous collections in the abdomen.',\n",
    "'There is a fluid collection and a collection of fluid.']\n",
    "\n",
    "#example 1\n",
    "markup1 = markup_sentence(sentences[0], modifiers, targets)\n",
    "\n",
    "print(markup1.nodes(),'\\n','_'*42,'\\n')\n",
    "\n",
    "#relationship between 'abdomen' and 'abscess'\n",
    "print(markup1.isModifiedByCategory(markup1.nodes()[-1],'anatomy'))\n",
    "#is an indication\n",
    "print(markup1.isModifiedByCategory(markup1.nodes()[-1],'indication'))\n",
    "\n",
    "#example 2\n",
    "markup2 = markup_sentence(sentences[1],modifiers,targets)\n",
    "\n",
    "#example 3\n",
    "markup3 = markup_sentence(sentences[2], modifiers, targets)\n",
    "\n",
    "#modified by anatomy\n",
    "markup3.edges()\n",
    "\n",
    "#example 4, a mention of fluid collection but without any modifiers\n",
    "markup4 = markup_sentence(sentences[3],modifiers,targets)\n",
    "\n",
    "#no relationship\n",
    "markup4.edges()\n",
    "markup4.nodes()[0]\n",
    "\n",
    "\n"
   ]
  },
  {
   "cell_type": "code",
   "execution_count": 5,
   "metadata": {
    "collapsed": false
   },
   "outputs": [
    {
     "data": {
      "text/html": [
       "<p> please <span style=\"color: purple;\">evaluate for</span> fistula, perforation, <span style=\"color: green;\">loculated collection</span>, <span style=\"color: green;\">fluid collections</span>, <span style=\"color: green;\">fluid collection</span>, <span style=\"color: green;\">abscess</span> in the <span style=\"color: orange;\">liver</span> or<span style=\"color: orange;\"> abdomen</span>, no contraindications for iv contrast  There is <span style=\"color: blue;\">no evidence</span> of <span style=\"color: green;\">abscess</span> or <span style=\"color: green;\">abscesses</span> in the<span style=\"color: orange;\"> abdomen </span>and it is <span style=\"color: blue;\">without</span> <span style=\"color: green;\">fluid collection</span>. There is a <span style=\"color: green;\">fluid collection</span> and <span style=\"color: green;\">heterogeneous collection</span> and <span style=\"color: green;\">heterogeneous collections</span> in the<span style=\"color: orange;\"> abdomen</span>. There is a <span style=\"color: green;\">fluid collection</span> and a <span style=\"color: green;\">collection of fluid</span>. </p>"
      ],
      "text/plain": [
       "<IPython.core.display.HTML object>"
      ]
     },
     "metadata": {},
     "output_type": "display_data"
    }
   ],
   "source": [
    "markups = [markup1, markup2, markup3,markup4]\n",
    "#markups = [markup2]\n",
    "context_short = pyConText.ConTextDocument()\n",
    "for m in markups:\n",
    "    context_short.addMarkup(m)\n",
    "\n",
    "clrs = {\\\n",
    "    \"anatomy\": \"orange\",\n",
    "    \"fluid_collection\": \"green\",\n",
    "    \"indication\": \"purple\",\n",
    "    \"definite_negated_existence\":\"blue\"\n",
    "    }\n",
    "display(HTML(html.mark_document_with_html(context_short,colors = clrs, default_color=\"black\")))\n",
    "\n",
    "#NOTE:this is not working with \"without\" or \"there is no\", so I'll have to work on that \n",
    "\n",
    "\n",
    "\n"
   ]
  },
  {
   "cell_type": "code",
   "execution_count": null,
   "metadata": {
    "collapsed": true
   },
   "outputs": [],
   "source": []
  },
  {
   "cell_type": "markdown",
   "metadata": {},
   "source": [
    "Looking at the above example, I would identify the following annotations:\n",
    "\n",
    "**Fluid Collection, Definitive Existence**: 1, in sentence 3\n",
    "\n",
    "**Indication**: 1, the entire first sentence. There are multiple targets there, but since we are annotating at a sentence level there should only be one.\n",
    "\n",
    "**Negated**: 1, the second sentence.\n",
    "\n",
    "Then there should be one left over: the final sentence, which does not have anatomy."
   ]
  },
  {
   "cell_type": "markdown",
   "metadata": {},
   "source": [
    "### Apply rules about definitive, negated and indication\n",
    "\n",
    "Perhaps there's a better way that you can suggest, but for now I've written this function to apply the rules of whether a fluid collection is definite, negated, indicated, or should be ignored (I'm calling it ``false positive``):\n",
    "\n",
    "1. A definitive mention of fluid collection must be modified by an anatomical modifier and not be modified by a negated existence modifier.\n",
    "        \n",
    "2. A negative mention must be modified by a negated existence modifier.\n",
    "        \n",
    "3. An indicated mention must be modified by an indication modifier.\n",
    "        \n",
    " "
   ]
  },
  {
   "cell_type": "code",
   "execution_count": 6,
   "metadata": {
    "collapsed": true
   },
   "outputs": [],
   "source": [
    "\n",
    "def fluid_collection_classifier(document):\n",
    "    \"\"\"Takes a ConTextDocument and returns the following unique sets:\n",
    "    definitive_evidence: markups that are classified as definitive evidence of fluid collection.\n",
    "    negated_evidence: markups that are classified as negated evidence of fluid collection.\n",
    "    indication: markups that are classified as indication of fluid collection.\n",
    "    false_positives: markups that contain target words but are unmodified by any modifiers\"\"\"\n",
    "    definite_evidence = []\n",
    "    negated_evidence = []\n",
    "    indication = []\n",
    "    ignored = []\n",
    "    \n",
    "    #what about different sections?\n",
    "    markups = [m[1] for m in document.getSectionMarkups()]\n",
    "    \n",
    "    for m in markups:\n",
    "        for tO in m.nodes():\n",
    "            if tO.getCategory() == ['fluid_collection']:\n",
    "                #negated\n",
    "                if m.isModifiedByCategory(tO,\"definite_negated_existence\"):\n",
    "                    negated_evidence.append(m)\n",
    "                #indication\n",
    "                elif m.isModifiedByCategory(tO, \"indication\"):\n",
    "                    indication.append(m)\n",
    "                else:\n",
    "                    if m.isModifiedByCategory(tO,'anatomy'):\n",
    "                        definite_evidence.append(m)\n",
    "                    else:\n",
    "                        ignored.append(m)\n",
    "    #eliminate markups that are in the same sentence\n",
    "    definite_evidence = set(definite_evidence)\n",
    "    negated_evidence = set(negated_evidence)\n",
    "    indication = set(indication)\n",
    "    ignored = set(ignored)\n",
    "    print('definitive evidence:',len(definite_evidence))\n",
    "    print('negated evidence:', len(negated_evidence))\n",
    "    print('indication:',len(indication))\n",
    "    print('ignored:',len(ignored))\n",
    "    return definite_evidence, negated_evidence, indication, ignored"
   ]
  },
  {
   "cell_type": "code",
   "execution_count": 21,
   "metadata": {
    "collapsed": false
   },
   "outputs": [
    {
     "name": "stdout",
     "output_type": "stream",
     "text": [
      "definitive evidence: 1\n",
      "negated evidence: 1\n",
      "indication: 1\n",
      "ignored: 1\n"
     ]
    },
    {
     "data": {
      "text/plain": [
       "{__________________________________________\n",
       " rawText: There is a fluid collection and heterogeneous collection and heterogeneous collections in the abdomen.\n",
       " cleanedText: There is a fluid collection and heterogeneous collection and heterogeneous collections in the abdomen.\n",
       " ********************************\n",
       " TARGET: <id> 67223191162141001461114722518375521232 </id> <phrase> fluid collection </phrase> <category> ['fluid_collection'] </category> \n",
       " ----MODIFIED BY: <id> 67222766499189925003891422353729969104 </id> <phrase>  abdomen </phrase> <category> ['anatomy'] </category> \n",
       " ********************************\n",
       " TARGET: <id> 67223269598021890583749910974030076880 </id> <phrase> heterogeneous collection </phrase> <category> ['fluid_collection'] </category> \n",
       " ----MODIFIED BY: <id> 67222766499189925003891422353729969104 </id> <phrase>  abdomen </phrase> <category> ['anatomy'] </category> \n",
       " ********************************\n",
       " TARGET: <id> 67223291148082094463170666007623031760 </id> <phrase> heterogeneous collections </phrase> <category> ['fluid_collection'] </category> \n",
       " ----MODIFIED BY: <id> 67222766499189925003891422353729969104 </id> <phrase>  abdomen </phrase> <category> ['anatomy'] </category> \n",
       " __________________________________________}"
      ]
     },
     "execution_count": 21,
     "metadata": {},
     "output_type": "execute_result"
    }
   ],
   "source": [
    "fluid_collection_classifier(context_short)[0]"
   ]
  },
  {
   "cell_type": "markdown",
   "metadata": {},
   "source": [
    "## Test on an an entire document\n",
    "\n",
    "The function worked on the above example. Now let's try it on an actual note."
   ]
  },
  {
   "cell_type": "code",
   "execution_count": 17,
   "metadata": {
    "collapsed": false
   },
   "outputs": [
    {
     "data": {
      "text/plain": [
       "str"
      ]
     },
     "execution_count": 17,
     "metadata": {},
     "output_type": "execute_result"
    }
   ],
   "source": [
    "input_report = '/Users/alec/Box Sync/Bucher_Surgical_MIMICIII/Radiology_Annotation/Adjudication/Batch_3/corpus/Yes_28226_116465_05-29-93.txt'\n",
    "report = ''\n",
    "with open(input_report,'r') as f0:\n",
    "    report += f0.read()\n",
    "type(report)"
   ]
  },
  {
   "cell_type": "code",
   "execution_count": 18,
   "metadata": {
    "collapsed": false
   },
   "outputs": [
    {
     "name": "stdout",
     "output_type": "stream",
     "text": [
      "Hand annotations \n",
      " 4 definitive \n",
      " 4 indications\n"
     ]
    }
   ],
   "source": [
    "#Here the annotations from eHOST:\n",
    "\"\"\"Fluid collection-definitive\t\n",
    "Fluid collection-definitive\t\n",
    "Fluid collection-definitive\t\n",
    "Fluid collection-definitive\t\n",
    "fluid collection-indication\t\n",
    "fluid collection-indication\t\n",
    "fluid collection-indication\t\n",
    "fluid collection-indication\t\n",
    "\"\"\"\n",
    "print(\"Hand annotations \\n \\\n",
    "4 definitive \\n \\\n",
    "4 indications\")"
   ]
  },
  {
   "cell_type": "code",
   "execution_count": 19,
   "metadata": {
    "collapsed": false
   },
   "outputs": [
    {
     "name": "stdout",
     "output_type": "stream",
     "text": [
      "<class 'list'>\n"
     ]
    }
   ],
   "source": [
    "context = pyConText.ConTextDocument()\n",
    "\n",
    "blob = TextBlob(report.lower())\n",
    "print(type(blob.sentences))"
   ]
  },
  {
   "cell_type": "code",
   "execution_count": 20,
   "metadata": {
    "collapsed": false
   },
   "outputs": [],
   "source": [
    "count = 0\n",
    "rslts = []\n",
    "for s in blob.sentences:\n",
    "    m = markup_sentence(s.raw, modifiers=modifiers, targets=targets)\n",
    "    rslts.append(m)\n",
    "\n",
    "for r in rslts:\n",
    "    context.addMarkup(r)"
   ]
  },
  {
   "cell_type": "code",
   "execution_count": 21,
   "metadata": {
    "collapsed": false
   },
   "outputs": [
    {
     "ename": "KeyError",
     "evalue": "'__sectionNumber'",
     "output_type": "error",
     "traceback": [
      "\u001b[0;31m---------------------------------------------------------------------------\u001b[0m",
      "\u001b[0;31mKeyError\u001b[0m                                  Traceback (most recent call last)",
      "\u001b[0;32m<ipython-input-21-bcb81d736403>\u001b[0m in \u001b[0;36m<module>\u001b[0;34m()\u001b[0m\n\u001b[1;32m      1\u001b[0m \u001b[0mcontext\u001b[0m\u001b[0;34m.\u001b[0m\u001b[0mgetSectionMarkups\u001b[0m\u001b[0;34m(\u001b[0m\u001b[0;34m)\u001b[0m\u001b[0;34m\u001b[0m\u001b[0m\n\u001b[0;32m----> 2\u001b[0;31m \u001b[0mcontext\u001b[0m\u001b[0;34m.\u001b[0m\u001b[0mgetSectionNodes\u001b[0m\u001b[0;34m(\u001b[0m\u001b[0;34m)\u001b[0m\u001b[0;34m\u001b[0m\u001b[0m\n\u001b[0m",
      "\u001b[0;32m/Users/alec/anaconda/lib/python3.5/site-packages/pyConTextNLP/pyConTextGraph.py\u001b[0m in \u001b[0;36mgetSectionNodes\u001b[0;34m(self, sectionLabel, category)\u001b[0m\n\u001b[1;32m    348\u001b[0m         \u001b[0;32mif\u001b[0m \u001b[0;32mnot\u001b[0m \u001b[0msectionLabel\u001b[0m\u001b[0;34m:\u001b[0m\u001b[0;34m\u001b[0m\u001b[0m\n\u001b[1;32m    349\u001b[0m             \u001b[0msectionLabel\u001b[0m \u001b[0;34m=\u001b[0m \u001b[0mself\u001b[0m\u001b[0;34m.\u001b[0m\u001b[0m__currentParent\u001b[0m\u001b[0;34m\u001b[0m\u001b[0m\n\u001b[0;32m--> 350\u001b[0;31m         successors = [(e[2]['__sectionNumber'],e[1]) for e in self.__document.out_edges(sectionLabel, data=True)\n\u001b[0m\u001b[1;32m    351\u001b[0m                                                             if e[2].get(\"category\") == category]\n\u001b[1;32m    352\u001b[0m         \u001b[0msuccessors\u001b[0m\u001b[0;34m.\u001b[0m\u001b[0msort\u001b[0m\u001b[0;34m(\u001b[0m\u001b[0;34m)\u001b[0m\u001b[0;34m\u001b[0m\u001b[0m\n",
      "\u001b[0;32m/Users/alec/anaconda/lib/python3.5/site-packages/pyConTextNLP/pyConTextGraph.py\u001b[0m in \u001b[0;36m<listcomp>\u001b[0;34m(.0)\u001b[0m\n\u001b[1;32m    349\u001b[0m             \u001b[0msectionLabel\u001b[0m \u001b[0;34m=\u001b[0m \u001b[0mself\u001b[0m\u001b[0;34m.\u001b[0m\u001b[0m__currentParent\u001b[0m\u001b[0;34m\u001b[0m\u001b[0m\n\u001b[1;32m    350\u001b[0m         successors = [(e[2]['__sectionNumber'],e[1]) for e in self.__document.out_edges(sectionLabel, data=True)\n\u001b[0;32m--> 351\u001b[0;31m                                                             if e[2].get(\"category\") == category]\n\u001b[0m\u001b[1;32m    352\u001b[0m         \u001b[0msuccessors\u001b[0m\u001b[0;34m.\u001b[0m\u001b[0msort\u001b[0m\u001b[0;34m(\u001b[0m\u001b[0;34m)\u001b[0m\u001b[0;34m\u001b[0m\u001b[0m\n\u001b[1;32m    353\u001b[0m         \u001b[0mtmp\u001b[0m \u001b[0;34m=\u001b[0m \u001b[0mlist\u001b[0m\u001b[0;34m(\u001b[0m\u001b[0mzip\u001b[0m\u001b[0;34m(\u001b[0m\u001b[0;34m*\u001b[0m\u001b[0msuccessors\u001b[0m\u001b[0;34m)\u001b[0m\u001b[0;34m)\u001b[0m\u001b[0;34m\u001b[0m\u001b[0m\n",
      "\u001b[0;31mKeyError\u001b[0m: '__sectionNumber'"
     ]
    }
   ],
   "source": [
    "context.getSectionMarkups()\n",
    "bleeding = []\n",
    "negated_bleeding = []\n",
    "for finding in getSectionNodes:\n",
    "    if finding.isModifiedBy('negation'):\n",
    "        negated_bleeding.append(finding)\n",
    "context.getSectionNodes()"
   ]
  },
  {
   "cell_type": "code",
   "execution_count": 9,
   "metadata": {
    "collapsed": false,
    "scrolled": true
   },
   "outputs": [
    {
     "data": {
      "text/html": [
       "<p> [**2659-8-24**] 2:25 pm ct abd w&w/o c; ct <span style=\"color: orange;\">pelvis</span> w/contrast clip # [**clip number (radiology) 67740**] reason: <span style=\"color: purple;\">evaluation for</span> <span style=\"color: green;\">abscess</span> and <span style=\"color: orange;\">pancreasitis</span>. needs to have both admitting diagnosis: abdominal pain contrast: optiray amt: 130 ______________________________________________________________________________ underlying medical condition: 52m <span style=\"color: orange;\">pancreatitis</span>, arf s/p ex lap, loa, serosal repair x 5 reason for this examination: <span style=\"color: purple;\">evaluation for</span> <span style=\"color: green;\">abscess</span> and <span style=\"color: orange;\">pancreasitis</span>. needs to have both iv and po contrast no contraindications for iv contrast ______________________________________________________________________________ provisional findings impression (pfi): fbr wed [**2659-8-24**] 6:15 pm interval increase in size of the <span style=\"color: green;\">multiloculated <span</span> style=\"color: green;\">fluid collection</span>, however, they are not still feasible for percutaneous <span style=\"color: green;\">drainage</span>. ______________________________________________________________________________ final report indication: 52-year-old man with pancreatitis and acute <span style=\"color: orange;\">renal</span> failure, please <span style=\"color: purple;\">evaluate for</span> <span style=\"color: green;\">abscess</span> and <span style=\"color: orange;\">pancreatitis</span>. comparison is made to the prior ct of [**2659-8-8**]. technique: axial mdct images were obtained from thoracic inlet to the symphysis pubis after administration of 130 cc of optiray intravenously. oral contrast was also used. sagittal and coronal reformatted images were then obtained. ct of the abdomen with iv contrast: increase in left pleural effusion. bibasilar atelectasis, left greater than right. the liver contains a small hypodense lesion within its dome which is too small to characterize. the spleen, adrenal glands, kidneys, gallbladder and common bile duct have normal appearance. the pancreas enhances homogeneously and there is no evidence of pancreatic necrosis and post-distal pneumonic and post-distal pneumonic lobe. portal vein, splenic vein, and superior mesenteric vein are [atent withno thrombus. no pseudoaneurysm is visualized. the <span style=\"color: green;\">multiloculated <span</span> style=\"color: green;\">fluid collection</span> in the <span style=\"color: orange;\">lesser sac</span> and in the left anterior <span style=\"color: orange;\">pararenal</span> space extending into the left lower <span style=\"color: orange;\">pelvis</span> have midly increased in size. there is also a new collection within the anterior abdominal wall. in general, there has been interval unification of some of the locules. the transverse colon and splenic flexure of the colon are also involved in this inflammatory process with bowel wall thickening and serosal tethering. there is also diffuse saponification of the omentum and the mesentery consistent with severe pancreatitis. no evidence of bowel obstruction is noted, however, there is diffuse small bowel wall thickening compatible with third-spacing. two locules of free air are noted in the anterior abdomen most likely related to the recent laparotomy. ct of the pelvis with iv contrast: the urinary bladder, distal ureter, rectum and sigmoid colon have normal appearance. no pathologically enlarged pelvic (over) [**2659-8-24**] 2:25 pm ct abd w&w/o c; ct <span style=\"color: orange;\">pelvis</span> w/contrast clip # [**clip number (radiology) 67740**] reason: <span style=\"color: purple;\">evaluation for</span> <span style=\"color: green;\">abscess</span> and <span style=\"color: orange;\">pancreasitis</span>. needs to have both admitting diagnosis: abdominal pain contrast: optiray amt: 130 ______________________________________________________________________________ final report (cont) or inguinal nodes are noted. no free air or fluid is noted within the pelvis. impression: 1. interval increase in <span style=\"color: orange;\">peripancreatic</span> inflammatory changes and interval unification of some of the <span style=\"color: green;\">multiloculated <span</span> style=\"color: green;\">fluid collection</span> in the left <span style=\"color: orange;\">pericolic</span> gutter and in the <span style=\"color: orange;\">lesser sac</span>. new areas of <span style=\"color: green;\">fluid collection</span> are noted in the anterior<span style=\"color: orange;\"> abdominal wall</span>. percutaneous <span style=\"color: green;\">drainage</span> is not feasible given the multiple internal septations. 2. no evidence of pancreatic necrosis or venous thrombosis or pseudoaneurysm. 3. thickening of the splenic flexure of the colon and distal transverse colon. 4. interval increase in left pleural effusion and associated atelectasis.  </p>"
      ],
      "text/plain": [
       "<IPython.core.display.HTML object>"
      ]
     },
     "metadata": {},
     "output_type": "display_data"
    }
   ],
   "source": [
    "clrs = {\\\n",
    "    \"anatomy\": \"orange\",\n",
    "    \"fluid_collection\": \"green\",\n",
    "    \"indication\": \"purple\",\n",
    "    \"definite_negated_existence\":\"blue\"\n",
    "    }\n",
    "display(HTML(html.mark_document_with_html(context,colors = clrs, default_color=\"black\")))"
   ]
  },
  {
   "cell_type": "code",
   "execution_count": 27,
   "metadata": {
    "collapsed": false
   },
   "outputs": [
    {
     "name": "stdout",
     "output_type": "stream",
     "text": [
      "definitive evidence: 3\n",
      "negated evidence: 0\n",
      "indication: 4\n",
      "ignored: 2\n"
     ]
    },
    {
     "data": {
      "text/plain": [
       "({__________________________________________\n",
       "  rawText: new areas of fluid collection are\n",
       "   noted in the anterior abdominal wall.\n",
       "  cleanedText: new areas of fluid collection are noted in the anterior abdominal wall.\n",
       "  ********************************\n",
       "  TARGET: <id> 108749154938761762982416865889713839056 </id> <phrase> fluid collection </phrase> <category> ['fluid_collection'] </category> \n",
       "  ----MODIFIED BY: <id> 108748803324176524678504849440865967056 </id> <phrase>  abdominal wall </phrase> <category> ['anatomy'] </category> \n",
       "  __________________________________________,\n",
       "  __________________________________________\n",
       "  rawText: the multiloculated fluid\n",
       "   collection in the lesser sac and in the left anterior pararenal space\n",
       "   extending into the left lower pelvis have midly increased in size.\n",
       "  cleanedText: the multiloculated fluid collection in the lesser sac and in the left anterior pararenal space extending into the left lower pelvis have midly increased in size.\n",
       "  ********************************\n",
       "  TARGET: <id> 108740346351653427070253480130616155088 </id> <phrase> multiloculated fluid </phrase> <category> ['fluid_collection'] </category> \n",
       "  ----MODIFIED BY: <id> 108740030072828670130699499398541794256 </id> <phrase> lesser sac </phrase> <category> ['anatomy'] </category> \n",
       "  ----MODIFIED BY: <id> 108740082521872254571399217064258755536 </id> <phrase> pararenal </phrase> <category> ['anatomy'] </category> \n",
       "  ----MODIFIED BY: <id> 108739890789718970052578190815422503888 </id> <phrase> pelvis </phrase> <category> ['anatomy'] </category> \n",
       "  ********************************\n",
       "  TARGET: <id> 108740301191600793943903663027910007760 </id> <phrase> fluid collection </phrase> <category> ['fluid_collection'] </category> \n",
       "  ----MODIFIED BY: <id> 108740030072828670130699499398541794256 </id> <phrase> lesser sac </phrase> <category> ['anatomy'] </category> \n",
       "  ----MODIFIED BY: <id> 108740082521872254571399217064258755536 </id> <phrase> pararenal </phrase> <category> ['anatomy'] </category> \n",
       "  ----MODIFIED BY: <id> 108739890789718970052578190815422503888 </id> <phrase> pelvis </phrase> <category> ['anatomy'] </category> \n",
       "  __________________________________________,\n",
       "  __________________________________________\n",
       "  rawText: impression:\n",
       "  \n",
       "   1.  interval increase in peripancreatic inflammatory changes and interval\n",
       "   unification of some of the multiloculated fluid collection in the left\n",
       "   pericolic gutter and in the lesser sac.\n",
       "  cleanedText: impression: 1. interval increase in peripancreatic inflammatory changes and interval unification of some of the multiloculated fluid collection in the left pericolic gutter and in the lesser sac.\n",
       "  ********************************\n",
       "  TARGET: <id> 108748216877317594093688267894242597840 </id> <phrase> multiloculated fluid </phrase> <category> ['fluid_collection'] </category> \n",
       "  ----MODIFIED BY: <id> 108747319222236307478906307052800760784 </id> <phrase> peripancreatic </phrase> <category> ['anatomy'] </category> \n",
       "  ----MODIFIED BY: <id> 108747405580933448027039913515240840144 </id> <phrase> pericolic </phrase> <category> ['anatomy'] </category> \n",
       "  ----MODIFIED BY: <id> 108747762741490062326361307093184994256 </id> <phrase> lesser sac </phrase> <category> ['anatomy'] </category> \n",
       "  ********************************\n",
       "  TARGET: <id> 108748156663914083248935489619904355280 </id> <phrase> fluid collection </phrase> <category> ['fluid_collection'] </category> \n",
       "  ----MODIFIED BY: <id> 108747319222236307478906307052800760784 </id> <phrase> peripancreatic </phrase> <category> ['anatomy'] </category> \n",
       "  ----MODIFIED BY: <id> 108747405580933448027039913515240840144 </id> <phrase> pericolic </phrase> <category> ['anatomy'] </category> \n",
       "  ----MODIFIED BY: <id> 108747762741490062326361307093184994256 </id> <phrase> lesser sac </phrase> <category> ['anatomy'] </category> \n",
       "  __________________________________________},\n",
       " set(),\n",
       " {__________________________________________\n",
       "  rawText: no pathologically enlarged pelvic\n",
       "                                                               (over)\n",
       "  \n",
       "   [**2659-8-24**] 2:25 pm\n",
       "   ct abd w&w/o c; ct pelvis w/contrast                            clip # [**clip number (radiology) 67740**]\n",
       "   reason: evaluation for abscess and pancreasitis.\n",
       "  cleanedText: no pathologically enlarged pelvic (over) [**2659-8-24**] 2:25 pm ct abd w&w/o c; ct pelvis w/contrast clip # [**clip number (radiology) 67740**] reason: evaluation for abscess and pancreasitis.\n",
       "  ********************************\n",
       "  TARGET: <id> 108745542134551112527658829965321231312 </id> <phrase> abscess </phrase> <category> ['fluid_collection'] </category> \n",
       "  ----MODIFIED BY: <id> 108745090534024781219927429298133588944 </id> <phrase> pelvis </phrase> <category> ['anatomy'] </category> \n",
       "  ----MODIFIED BY: <id> 108745435968813343413404233369921182672 </id> <phrase> evaluation for </phrase> <category> ['indication'] </category> \n",
       "  ----MODIFIED BY: <id> 108745017644115268095598839906858097616 </id> <phrase> pancreasitis </phrase> <category> ['anatomy'] </category> \n",
       "  __________________________________________,\n",
       "  __________________________________________\n",
       "  rawText: ______________________________________________________________________________\n",
       "                                   final report\n",
       "   indication:  52-year-old man with pancreatitis and acute renal failure, please\n",
       "   evaluate for abscess and pancreatitis.\n",
       "  cleanedText: ______________________________________________________________________________ final report indication: 52-year-old man with pancreatitis and acute renal failure, please evaluate for abscess and pancreatitis.\n",
       "  ********************************\n",
       "  TARGET: <id> 108735485862339501985845065300969970640 </id> <phrase> abscess </phrase> <category> ['fluid_collection'] </category> \n",
       "  ----MODIFIED BY: <id> 108735201274779750745386127285871369168 </id> <phrase> renal </phrase> <category> ['anatomy'] </category> \n",
       "  ----MODIFIED BY: <id> 108735362741774954817395579796753669072 </id> <phrase> evaluate for </phrase> <category> ['indication'] </category> \n",
       "  ----MODIFIED BY: <id> 108734990527867462803985954965175065552 </id> <phrase> pancreatitis </phrase> <category> ['anatomy'] </category> \n",
       "  __________________________________________,\n",
       "  __________________________________________\n",
       "  rawText: [**2659-8-24**] 2:25 pm\n",
       "   ct abd w&w/o c; ct pelvis w/contrast                            clip # [**clip number (radiology) 67740**]\n",
       "   reason: evaluation for abscess and pancreasitis.\n",
       "  cleanedText: [**2659-8-24**] 2:25 pm ct abd w&w/o c; ct pelvis w/contrast clip # [**clip number (radiology) 67740**] reason: evaluation for abscess and pancreasitis.\n",
       "  ********************************\n",
       "  TARGET: <id> 108732041655658681886050321675631123408 </id> <phrase> abscess </phrase> <category> ['fluid_collection'] </category> \n",
       "  ----MODIFIED BY: <id> 108731578804733273552517551822164384720 </id> <phrase> pelvis </phrase> <category> ['anatomy'] </category> \n",
       "  ----MODIFIED BY: <id> 108731935489920912769857206915624786896 </id> <phrase> evaluation for </phrase> <category> ['indication'] </category> \n",
       "  ----MODIFIED BY: <id> 108731444275313324331256860918911785936 </id> <phrase> pancreasitis </phrase> <category> ['anatomy'] </category> \n",
       "  __________________________________________,\n",
       "  __________________________________________\n",
       "  rawText: needs to have both\n",
       "   admitting diagnosis: abdominal pain\n",
       "    contrast: optiray amt: 130\n",
       "   ______________________________________________________________________________\n",
       "   underlying medical condition:\n",
       "    52m pancreatitis, arf s/p ex lap, loa, serosal repair x 5\n",
       "   reason for this examination:\n",
       "    evaluation for abscess and pancreasitis.\n",
       "  cleanedText: needs to have both admitting diagnosis: abdominal pain contrast: optiray amt: 130 ______________________________________________________________________________ underlying medical condition: 52m pancreatitis, arf s/p ex lap, loa, serosal repair x 5 reason for this examination: evaluation for abscess and pancreasitis.\n",
       "  ********************************\n",
       "  TARGET: <id> 108733483608216441494255772652132555728 </id> <phrase> abscess </phrase> <category> ['fluid_collection'] </category> \n",
       "  ----MODIFIED BY: <id> 108732667399686219544445436896887626704 </id> <phrase> pancreatitis </phrase> <category> ['anatomy'] </category> \n",
       "  ----MODIFIED BY: <id> 108733328162561588508919636061817592784 </id> <phrase> evaluation for </phrase> <category> ['indication'] </category> \n",
       "  ----MODIFIED BY: <id> 108732686572901547998169568064361126864 </id> <phrase> pancreasitis </phrase> <category> ['anatomy'] </category> \n",
       "  __________________________________________},\n",
       " {__________________________________________\n",
       "  rawText: percutaneous drainage is not feasible\n",
       "   given the multiple internal septations.\n",
       "  cleanedText: percutaneous drainage is not feasible given the multiple internal septations.\n",
       "  ********************************\n",
       "  TARGET: <id> 108749556625545710303192525734216653776 </id> <phrase> drainage </phrase> <category> ['fluid_collection'] </category> \n",
       "  __________________________________________,\n",
       "  __________________________________________\n",
       "  rawText: needs to have both iv and po contrast\n",
       "   no contraindications for iv contrast\n",
       "   ______________________________________________________________________________\n",
       "   provisional findings impression (pfi): fbr wed [**2659-8-24**] 6:15 pm\n",
       "    interval increase in size of the multiloculated fluid collection, however,\n",
       "    they are not still feasible for percutaneous drainage.\n",
       "  cleanedText: needs to have both iv and po contrast no contraindications for iv contrast ______________________________________________________________________________ provisional findings impression (pfi): fbr wed [**2659-8-24**] 6:15 pm interval increase in size of the multiloculated fluid collection, however, they are not still feasible for percutaneous drainage.\n",
       "  ********************************\n",
       "  TARGET: <id> 108734682330315282312826471668017191888 </id> <phrase> multiloculated fluid </phrase> <category> ['fluid_collection'] </category> \n",
       "  ********************************\n",
       "  TARGET: <id> 108734622275368096500866714477933288400 </id> <phrase> fluid collection </phrase> <category> ['fluid_collection'] </category> \n",
       "  ********************************\n",
       "  TARGET: <id> 108734738423854342415535331602756721616 </id> <phrase> drainage </phrase> <category> ['fluid_collection'] </category> \n",
       "  __________________________________________})"
      ]
     },
     "execution_count": 27,
     "metadata": {},
     "output_type": "execute_result"
    }
   ],
   "source": [
    "fluid_collection_classifier(context)\n",
    "\n",
    "\n",
    "\n",
    "\n",
    "#should be:\n",
    "#4 definitive \n",
    "#4 indications"
   ]
  },
  {
   "cell_type": "code",
   "execution_count": 15,
   "metadata": {
    "collapsed": false
   },
   "outputs": [
    {
     "data": {
      "text/plain": [
       "'\\n<ConTextDocument>\\n<section>\\n<sectionLabel> document </sectionLabel>\\n</section>\\n\\n</ConTextDocument>\\n'"
      ]
     },
     "execution_count": 15,
     "metadata": {},
     "output_type": "execute_result"
    }
   ],
   "source": [
    "context.getXML()"
   ]
  },
  {
   "cell_type": "markdown",
   "metadata": {
    "collapsed": true
   },
   "source": [
    "**February 2**: Now gets all but one of the definitive evidence. Will debug soon.\n",
    "The first run achieved:\n",
    "\n",
    "    **Definite**:\n",
    "        Sensitivity: .5\n",
    "        PPV: 1.0\n",
    "        Specificity: 1.0\n",
    "    **Indication**:\n",
    "        Sensitivity: 1.0\n",
    "        PPV: 1.0\n",
    "        Specificity: 1.0"
   ]
  },
  {
   "cell_type": "markdown",
   "metadata": {},
   "source": [
    "Examples of misses:"
   ]
  },
  {
   "cell_type": "code",
   "execution_count": 14,
   "metadata": {
    "collapsed": false
   },
   "outputs": [
    {
     "data": {
      "text/plain": [
       "''"
      ]
     },
     "execution_count": 14,
     "metadata": {},
     "output_type": "execute_result"
    }
   ],
   "source": [
    "#across sentences:\n",
    "'''there is also a new collection within the anterior abdominal wall.'''\n",
    "#missing 'abdominal wall' \n",
    "'''New areas of of fluid collection are noted in the anterior abdominal wall'''\n",
    "''"
   ]
  },
  {
   "cell_type": "markdown",
   "metadata": {
    "collapsed": true
   },
   "source": [
    "## Try with another document"
   ]
  },
  {
   "cell_type": "code",
   "execution_count": 15,
   "metadata": {
    "collapsed": false
   },
   "outputs": [
    {
     "data": {
      "text/plain": [
       "'[**2604-3-11**] 11:18 am\\n ct abdomen w/contrast; ct pelvis w/contrast                     clip # [**clip number (radiology) 53688**]\\n reason: r/o obstruction  only one bottle of oral contrast pleaseplea\\n admitting diagnosis: metastastic breast cancer to liver/sda\\n ______________________________________________________________________________\\n underlying medical condition:\\n  only one bottle of oral contrast please   60f s/p r trisegmentectomy, r.\\n  adrenalectomy, ccy, r-y hepaticojej, rfa x4 l. lat segment lesions [**3-2**] for\\n  metastatic breast ca, w/ hepatic encephalopathy\\n reason for this examination:\\n  r/o obstruction  only one bottle of oral contrast pleaseplease use iv contrast\\n no contraindications for iv contrast\\n ______________________________________________________________________________\\n provisional findings impression (pfi): aglc sun [**2604-3-11**] 8:42 pm\\n  pfi:  status post right hepatic trisegmentectomy, cholecystectomy and right\\n  adrenalectomy.  two [**doctor last name 1052**] drains and a hepatojejunostomy tube remain in place.\\n  trace amount of fluid along the anterior resection bed is as previously seen.\\n  however, there is new nonenhancing fluid collection along the posterior medial\\n  aspect of the resection bed, in a subpleural location, with tracking along the\\n  dome of the liver.  the [**doctor last name 1052**] drains course inferior and anterior to this\\n  collection.  no evidence of a fat limb syndrome.  areas of heterogeneous\\n  perfusion along the anterior resection margin of the remaining liver is as\\n  previously seen.  again there is opacification only of the left hepatic vein.\\n  two branches of the left portal vein are also normally opacified.  there has\\n  been interval improvement in pleural effusions and ascites, although fat\\n  stranding both subcutaneous and mesenteric remain.\\n ______________________________________________________________________________\\n                                 final report\\n\\n history:  60-year-old female who is status post right trisegmentectomy, right\\n adrenalectomy, cholecystectomy, roux-en-y hepaticojejunostomy, and rfa of four\\n left liver lesions on [**2604-3-2**] for metastatic breast cancer, now with hepatic\\n encephalopathy concerning for afferent limb syndrome and biliary obstruction.\\n\\n comparison:  ct abdomen/pelvis of [**2604-3-6**] and intraoperative ultrasound from\\n [**2604-3-2**].\\n\\n technique:  mdct axial imaging was performed through the abdomen and pelvis\\n after administration of bottle of oral contrast and 130 ml of iv optiray.\\n multiplanar reformatted images were then obtained.\\n\\n ct abdomen with iv contrast:  bilateral pleural effusions are decreased\\n compared to [**2604-3-6**], now small on the right and resolved on the left.  areas\\n of subsegmental atelectasis are again noted in the visualized lung bases. no\\n pericardial effusion is noted.  bilateral breast implants are incompletely\\n visualized.\\n\\n the patient is again noted to be status post right hepatic trisegmentectomy,\\n cholecystectomy, and right adrenalectomy.  two right abdominal [**doctor last name 1052**] drains\\n are in unchanged positions, the lateral one terminating posterosuperiorly in\\n the resection bed and the medial one coursing along the resection margin and\\n terminating laterally in the subdiaphragmatic region.  trace amount of fluid\\n along the anterior resection bed is as previously seen.  however, note is made\\n                                                             (over)\\n\\n [**2604-3-11**] 11:18 am\\n ct abdomen w/contrast; ct pelvis w/contrast                     clip # [**clip number (radiology) 53688**]\\n reason: r/o obstruction  only one bottle of oral contrast pleaseplea\\n admitting diagnosis: metastastic breast cancer to liver/sda\\n ______________________________________________________________________________\\n                                 final report\\n (cont)\\n of new non-enhancing, nonhemorrhagic fluid collection high within the\\n resection bed, in the right posteromedial subdiaphragmatic location, measuring\\n approximately 3.5 x 5.5 x 6.0 cm and tracking superiorly along the dome of the\\n liver. the medial [**doctor last name 1052**] drain is noted to course anterior to this collection\\n and the lateral [**doctor last name 1052**] drain terminates inferior to this collection.\\n compared to the ct of five days prior, there has been interval resolution of\\n pneumoperitoneum. skin staples remain.  again a hepaticojejunostomy tube\\n remains in place.  no intrahepatic biliary ductal dilatation is noted.  while\\n fluid can be seen in the roux limb in the region of the anastomosis, the roux\\n limb is nondistended. the jejunojejunal anastomosis site is identified, with\\n what appears to be intact suture line and without adjacent fluid collection.\\n again four oval- shaped areas of hypoattenuation in the remaining left hepatic\\n lobe are noted, consistent with recent radiofrequency ablation.  exophytic\\n hemangioma along the inferior left hepatic lobe is also unchanged.  also noted\\n is heterogeneous perfusion of the liver along the anterior resection margin,\\n which again could be related to partial venous thrombosis.  only a left\\n hepatic vein is opacified, as seen 5 days prior.  two lateral branches of the\\n left portal vein also again opacify normally.\\n\\n the spleen and pancreas enhance homogeneously.  the right adrenal gland and\\n right kidney appear unremarkable.  again seen is a simple cyst arising from\\n the upper pole of the right kidney.  the stomach and remaining loops of small\\n bowel, and colon are nondistended.  again note is made of colonic\\n diverticulosis.  atherosclerotic calcifications are noted along the abdominal\\n cord, without aneurysmal dilatation.  no lymph node enlargement is seen\\n meeting ct size criteria for adenopathy.  fluid in the left abdomen is\\n improved.\\n\\n ct pelvis with iv contrast:  a moderately well distended urinary bladder,\\n uterus and adnexa appear unremarkable.  while subcutaneous and mesenteric fat\\n stranding remains, there has been interval improvement in fluid within the\\n pelvis, now with remaining fat stranding.  sigmoid diverticulosis is again\\n noted.\\n\\n osseous structures:  no region of bony destruction is seen concerning for\\n malignancy.  degenerative changes in the lower lumbar spine as previously\\n seen, with grade 1 anterolisthesis of l3 on l4 and degenerative endplate\\n changes most marked at the l4-5 and l5-s1 levels.\\n\\n impression:\\n\\n 1.  status post right hepatic trisegmentectomy and roux-en-y\\n hepaticojejunostomy.  trace fluid along the resection bed is unchanged, but\\n there is now new nonenhancing, non-hemorrhagic fluid collection seen in the\\n posteromedial subdiaphragmatic location, with trace fluid tracking along the\\n dome of the liver.  the [**doctor last name **] drains do not course through this collection.\\n                                                             (over)\\n\\n [**2604-3-11**] 11:18 am\\n ct abdomen w/contrast; ct pelvis w/contrast                     clip # [**clip number (radiology) 53688**]\\n reason: r/o obstruction  only one bottle of oral contrast pleaseplea\\n admitting diagnosis: metastastic breast cancer to liver/sda\\n ______________________________________________________________________________\\n                                 final report\\n (cont)\\n\\n 2.  hepaticojejunostomy remains nondistended.  no evidence of afferent limb\\n syndrome, as clinically suggested.\\n\\n 3.  areas of post-rfa changes in left hepatic lobe are not changed.\\n heterogeneous enhancement along the anterior resection margin in the left\\n hepatic lobe is unchanged, again possibly due to partial venous thrombosis.\\n\\n 4.  interval improvement in pleural effusions and ascites.\\n\\n\\n'"
      ]
     },
     "execution_count": 15,
     "metadata": {},
     "output_type": "execute_result"
    }
   ],
   "source": [
    "#this one contains a 'negated' class, but is classified as 'present'\n",
    "input_report = '/Users/alec/Box Sync/Adjudication/Batch_3/corpus/No_69411_129942_04-30-58.txt'\n",
    "report2 = ''\n",
    "with open(input_report,'r') as f0:\n",
    "    report2 += f0.read().lower()\n",
    "report2\n",
    "#len(report2)"
   ]
  },
  {
   "cell_type": "code",
   "execution_count": 16,
   "metadata": {
    "collapsed": false
   },
   "outputs": [],
   "source": [
    "context2 = pyConText.ConTextDocument()\n",
    "\n",
    "blob = TextBlob(report2.lower())\n",
    "count = 0\n",
    "rslts = []\n",
    "for s in blob.sentences:\n",
    "    m = markup_sentence(s.raw, modifiers=modifiers, targets=targets)\n",
    "    rslts.append(m)\n",
    "\n",
    "for r in rslts:\n",
    "    context2.addMarkup(r)\n",
    "\n",
    "#display(HTML(html.mark_document_with_html(context2,colors = clrs, default_color=\"black\")))"
   ]
  },
  {
   "cell_type": "code",
   "execution_count": 17,
   "metadata": {
    "collapsed": false
   },
   "outputs": [
    {
     "name": "stdout",
     "output_type": "stream",
     "text": [
      "definitive evidence: 2\n",
      "negated evidence: 1\n",
      "indication: 1\n",
      "ignored: 0\n"
     ]
    },
    {
     "data": {
      "text/plain": [
       "({__________________________________________\n",
       "  rawText: trace fluid along the resection bed is unchanged, but\n",
       "   there is now new nonenhancing, non-hemorrhagic fluid collection seen in the\n",
       "   posteromedial subdiaphragmatic location, with trace fluid tracking along the\n",
       "   dome of the liver.\n",
       "  cleanedText: trace fluid along the resection bed is unchanged, but there is now new nonenhancing, non-hemorrhagic fluid collection seen in the posteromedial subdiaphragmatic location, with trace fluid tracking along the dome of the liver.\n",
       "  ********************************\n",
       "  TARGET: <id> 67551583972946375712720425144508931024 </id> <phrase> fluid collection </phrase> <category> ['fluid_collection'] </category> \n",
       "  ----MODIFIED BY: <id> 67550760792337852509638127767763999696 </id> <phrase> resection bed </phrase> <category> ['anatomy'] </category> \n",
       "  ----MODIFIED BY: <id> 67551126034167043267495280716532866000 </id> <phrase> subdiaphragmatic </phrase> <category> ['anatomy'] </category> \n",
       "  ----MODIFIED BY: <id> 67550521681743384460143960354228460496 </id> <phrase> liver </phrase> <category> ['anatomy'] </category> \n",
       "  __________________________________________,\n",
       "  __________________________________________\n",
       "  rawText: however, there is new nonenhancing fluid collection along the posterior medial\n",
       "    aspect of the resection bed, in a subpleural location, with tracking along the\n",
       "    dome of the liver.\n",
       "  cleanedText: however, there is new nonenhancing fluid collection along the posterior medial aspect of the resection bed, in a subpleural location, with tracking along the dome of the liver.\n",
       "  ********************************\n",
       "  TARGET: <id> 67509053661483418503204167944332827600 </id> <phrase> fluid collection </phrase> <category> ['fluid_collection'] </category> \n",
       "  ----MODIFIED BY: <id> 67508369763984595375421955459136281552 </id> <phrase> resection bed </phrase> <category> ['anatomy'] </category> \n",
       "  ----MODIFIED BY: <id> 67508434097252556956373542706699754448 </id> <phrase> subpleural </phrase> <category> ['anatomy'] </category> \n",
       "  ----MODIFIED BY: <id> 67508179457938236110372556391191075792 </id> <phrase> liver </phrase> <category> ['anatomy'] </category> \n",
       "  __________________________________________},\n",
       " {__________________________________________\n",
       "  rawText: the jejunojejunal anastomosis site is identified, with\n",
       "   what appears to be intact suture line and without adjacent fluid collection.\n",
       "  cleanedText: the jejunojejunal anastomosis site is identified, with what appears to be intact suture line and without adjacent fluid collection.\n",
       "  ********************************\n",
       "  TARGET: <id> 67535841178598466363024487125049859024 </id> <phrase> fluid collection </phrase> <category> ['fluid_collection'] </category> \n",
       "  ----MODIFIED BY: <id> 67535241421408233379115325960106728400 </id> <phrase> without </phrase> <category> ['definite_negated_existence'] </category> \n",
       "  __________________________________________},\n",
       " {__________________________________________\n",
       "  rawText: however, note is made\n",
       "                                                               (over)\n",
       "  \n",
       "   [**2604-3-11**] 11:18 am\n",
       "   ct abdomen w/contrast; ct pelvis w/contrast                     clip # [**clip number (radiology) 53688**]\n",
       "   reason: r/o obstruction  only one bottle of oral contrast pleaseplea\n",
       "   admitting diagnosis: metastastic breast cancer to liver/sda\n",
       "   ______________________________________________________________________________\n",
       "                                   final report\n",
       "   (cont)\n",
       "   of new non-enhancing, nonhemorrhagic fluid collection high within the\n",
       "   resection bed, in the right posteromedial subdiaphragmatic location, measuring\n",
       "   approximately 3.5 x 5.5 x 6.0 cm and tracking superiorly along the dome of the\n",
       "   liver.\n",
       "  cleanedText: however, note is made (over) [**2604-3-11**] 11:18 am ct abdomen w/contrast; ct pelvis w/contrast clip # [**clip number (radiology) 53688**] reason: r/o obstruction only one bottle of oral contrast pleaseplea admitting diagnosis: metastastic breast cancer to liver/sda ______________________________________________________________________________ final report (cont) of new non-enhancing, nonhemorrhagic fluid collection high within the resection bed, in the right posteromedial subdiaphragmatic location, measuring approximately 3.5 x 5.5 x 6.0 cm and tracking superiorly along the dome of the liver.\n",
       "  ********************************\n",
       "  TARGET: <id> 67529081590229074356580831282031156176 </id> <phrase> fluid collection </phrase> <category> ['fluid_collection'] </category> \n",
       "  ----MODIFIED BY: <id> 67528481833038841377577216011201338320 </id> <phrase> reason </phrase> <category> ['indication'] </category> \n",
       "  ----MODIFIED BY: <id> 67524935580484702906082952687767706576 </id> <phrase> liver </phrase> <category> ['anatomy'] </category> \n",
       "  ----MODIFIED BY: <id> 67525543260491187313207769798372940752 </id> <phrase> resection bed </phrase> <category> ['anatomy'] </category> \n",
       "  ----MODIFIED BY: <id> 67526623298802581764016926467533757392 </id> <phrase> subdiaphragmatic </phrase> <category> ['anatomy'] </category> \n",
       "  ----MODIFIED BY: <id> 67524983117382211462133375200302390224 </id> <phrase> liver </phrase> <category> ['anatomy'] </category> \n",
       "  __________________________________________},\n",
       " set())"
      ]
     },
     "execution_count": 17,
     "metadata": {},
     "output_type": "execute_result"
    }
   ],
   "source": [
    "fluid_collection_classifier(context2)\n",
    "#print(context2.getRawText())\n",
    "#should be:\n",
    "#3 definitive \n",
    "#1 negated"
   ]
  },
  {
   "cell_type": "markdown",
   "metadata": {
    "collapsed": true
   },
   "source": [
    "**February 2**: This has gotten better. It got the negated but is still classifying one as indication instead of definitive."
   ]
  },
  {
   "cell_type": "markdown",
   "metadata": {},
   "source": [
    "## Observations and next steps.\n",
    "\n",
    "On these two documents, pyConText is doing quite well with definitive evidence and indication. The negation was working in the earlier examples, but not on this final documents. Here are what I think should be the next steps:\n",
    "\n",
    "    - Add more modifiers and targets, particularly negation modifiers\n",
    "    - Add modifiers for historical and probable\n",
    "    - Beef up targets and modifiers with regular expressions\n",
    "    - What should pyConText output? XML files? A sqlite database? Writing out to an Excel file?\n",
    "    - Make it easier/automated to compare the output of my classifier function with annotations. Perhaps an XML parser \n",
    "    would help\n",
    "    - Test on all the adjudicated batches"
   ]
  },
  {
   "cell_type": "code",
   "execution_count": null,
   "metadata": {
    "collapsed": true
   },
   "outputs": [],
   "source": []
  }
 ],
 "metadata": {
  "anaconda-cloud": {},
  "kernelspec": {
   "display_name": "Python [default]",
   "language": "python",
   "name": "python3"
  },
  "language_info": {
   "codemirror_mode": {
    "name": "ipython",
    "version": 3
   },
   "file_extension": ".py",
   "mimetype": "text/x-python",
   "name": "python",
   "nbconvert_exporter": "python",
   "pygments_lexer": "ipython3",
   "version": "3.5.2"
  }
 },
 "nbformat": 4,
 "nbformat_minor": 0
}
