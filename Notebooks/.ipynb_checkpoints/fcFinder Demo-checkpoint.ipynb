{
 "cells": [
  {
   "cell_type": "code",
   "execution_count": 1,
   "metadata": {
    "collapsed": false
   },
   "outputs": [],
   "source": [
    "import sys\n",
    "import os\n",
    "\n",
    "sys.path\n",
    "sys.path.append(os.path.join(os.path.expanduser('~'),'Box Sync', 'Bucher_Surgical_MIMICIII/pyConText_implement/fcFinder'))\n",
    "#fdir"
   ]
  },
  {
   "cell_type": "code",
   "execution_count": 11,
   "metadata": {
    "collapsed": false
   },
   "outputs": [],
   "source": [
    "import fcFinder as fc\n",
    "import pyConTextNLP.itemData as itemData\n",
    "import pyConTextNLP.helpers as helpers\n",
    "import os\n",
    "import importlib"
   ]
  },
  {
   "cell_type": "code",
   "execution_count": 15,
   "metadata": {
    "collapsed": false
   },
   "outputs": [
    {
     "data": {
      "text/plain": [
       "<module 'fcFinder' from '/Users/alec/Box Sync/Bucher_Surgical_MIMICIII/pyConText_implement/fcFinder/fcFinder.py'>"
      ]
     },
     "execution_count": 15,
     "metadata": {},
     "output_type": "execute_result"
    }
   ],
   "source": [
    "importlib.reload(fc)"
   ]
  },
  {
   "cell_type": "code",
   "execution_count": 22,
   "metadata": {
    "collapsed": false
   },
   "outputs": [
    {
     "data": {
      "text/plain": [
       "''"
      ]
     },
     "execution_count": 22,
     "metadata": {},
     "output_type": "execute_result"
    }
   ],
   "source": [
    "\"\"\"import pyConTextNLP.pyConTextGraph as pyConText\n",
    "from pyConTextNLP.pyConTextGraph import ConTextMarkup\n",
    "\n",
    "from textblob import TextBlob\n",
    "import networkx as nx\n",
    "import os\n",
    "\n",
    "import glob\n",
    "\n",
    "import re\n",
    "import copy\n",
    "import networkx as nx\n",
    "import platform\n",
    "import copy\n",
    "import uuid\n",
    "import datetime\n",
    "import time\"\"\"\n",
    "''"
   ]
  },
  {
   "cell_type": "code",
   "execution_count": 23,
   "metadata": {
    "collapsed": true
   },
   "outputs": [],
   "source": [
    "#import fcClasses"
   ]
  },
  {
   "cell_type": "markdown",
   "metadata": {},
   "source": [
    "## fcFinder\n",
    "I'm designing a function to work as a pipeline using the module `fcFinder`. Here is an outline of how the function works:\n",
    "- As input, it takes:\n",
    "    - a file name (the report)\n",
    "    - an outpath to save the XML file\n",
    "    - modifiers and targets as `itemData` objects\n",
    "    \n",
    "- The function then follows this order, as demonstrated below:\n",
    "    - Reads in the file\n",
    "    - Creates a conText Document that is made up of `markup` objects\n",
    "    - Classifies each tagObject as being either definitive evidence of fluid collection, negated evidence, or indication (need to get it to work for the relevant anatomic modifiers)\n",
    "    - Creates `mentionAnnotation` objects out of those tabObjects\n",
    "    - Writes one XML .txt.knowtator file. This still needs to be worked on so that it is compatible with eHOST, but the basic structure is there."
   ]
  },
  {
   "cell_type": "code",
   "execution_count": 3,
   "metadata": {
    "collapsed": false
   },
   "outputs": [],
   "source": [
    "#one annotation\n",
    "modifiers = itemData.instantiateFromCSVtoitemData(\"/Users/alec/Box Sync/Bucher_Surgical_MIMICIII/pyConText_implement/modifiers.tsv\")\n",
    "targets = itemData.instantiateFromCSVtoitemData(\n",
    "    \"file:///Users/alec/Box Sync/Bucher_Surgical_MIMICIII/pyConText_implement/targets.tsv\")"
   ]
  },
  {
   "cell_type": "code",
   "execution_count": 6,
   "metadata": {
    "collapsed": false
   },
   "outputs": [
    {
     "data": {
      "text/plain": [
       "'Yes_28226_116465_05-29-93.txt'"
      ]
     },
     "execution_count": 6,
     "metadata": {},
     "output_type": "execute_result"
    }
   ],
   "source": [
    "input_report = '/Users/alec/Box Sync/Bucher_Surgical_MIMICIII/Radiology_Annotation/Adjudication/Batch_3/corpus/Yes_28226_116465_05-29-93.txt'\n",
    "report = ''\n",
    "with open(input_report,'r') as f0:\n",
    "    report += f0.read()\n",
    "len(report)\n",
    "report_name = os.path.basename(input_report)\n",
    "report_name"
   ]
  },
  {
   "cell_type": "code",
   "execution_count": 5,
   "metadata": {
    "collapsed": false
   },
   "outputs": [],
   "source": [
    "context = fc.create_context_doc(report, modifiers, targets)"
   ]
  },
  {
   "cell_type": "code",
   "execution_count": 6,
   "metadata": {
    "collapsed": false
   },
   "outputs": [
    {
     "data": {
      "text/plain": [
       "32"
      ]
     },
     "execution_count": 6,
     "metadata": {},
     "output_type": "execute_result"
    }
   ],
   "source": [
    "len(context.getSectionMarkups())"
   ]
  },
  {
   "cell_type": "code",
   "execution_count": 7,
   "metadata": {
    "collapsed": false
   },
   "outputs": [],
   "source": [
    "#importlib.reload(fc)"
   ]
  },
  {
   "cell_type": "code",
   "execution_count": 8,
   "metadata": {
    "collapsed": false
   },
   "outputs": [
    {
     "name": "stdout",
     "output_type": "stream",
     "text": [
      "Definitive evidence: 5 \n",
      " Negated evidence: 0 \n",
      " Indication: 4 \n"
     ]
    }
   ],
   "source": [
    "#Apply logic, classify tagObjects\n",
    "annotations1=fc.fluid_collection_classifier(context,\"textfile.txt\")\n"
   ]
  },
  {
   "cell_type": "code",
   "execution_count": 10,
   "metadata": {
    "collapsed": false,
    "scrolled": true
   },
   "outputs": [
    {
     "name": "stdout",
     "output_type": "stream",
     "text": [
      "<class 'list'>\n",
      "<class 'fcFinder.mentionAnnotation'>\n",
      "<class 'fcFinder.mentionAnnotation'>\n",
      "fluid collection-indication\n",
      "<class 'fcFinder.mentionAnnotation'>\n",
      "fluid collection-indication\n",
      "<class 'fcFinder.mentionAnnotation'>\n",
      "fluid collection-indication\n",
      "<class 'fcFinder.mentionAnnotation'>\n",
      "Fluid collection-definitive\n",
      "<class 'fcFinder.mentionAnnotation'>\n",
      "Fluid collection-definitive\n",
      "<class 'fcFinder.mentionAnnotation'>\n",
      "fluid collection-indication\n",
      "<class 'fcFinder.mentionAnnotation'>\n",
      "Fluid collection-definitive\n",
      "<class 'fcFinder.mentionAnnotation'>\n",
      "Fluid collection-definitive\n",
      "<class 'fcFinder.mentionAnnotation'>\n",
      "Fluid collection-definitive\n"
     ]
    }
   ],
   "source": [
    "annotation_strings = []\n",
    "print(type(annotations1))\n",
    "print(type(annotations1[0]))\n",
    "for annotation in annotations1:\n",
    "    print(type(annotation))\n",
    "    annotation_strings.append(annotation.getXML())\n",
    "    print(annotation.getMentionClass())\n",
    "#definitive_mention = fc.fluid_collection_classifier(context)[0][0]\n",
    "#definitive_mention.has_edge()\n",
    "#Will this work to catch the appropriate anatomical modifiers?\n",
    "#[x.getXML() for x in annotations1]\n"
   ]
  },
  {
   "cell_type": "code",
   "execution_count": 11,
   "metadata": {
    "collapsed": false
   },
   "outputs": [
    {
     "data": {
      "text/plain": [
       "[<Element 'annotation' at 0x111ec9048>,\n",
       " <Element 'annotation' at 0x111ec9228>,\n",
       " <Element 'annotation' at 0x111ec9458>,\n",
       " <Element 'annotation' at 0x111ec9688>,\n",
       " <Element 'annotation' at 0x111ec98b8>,\n",
       " <Element 'annotation' at 0x111ec9ae8>,\n",
       " <Element 'annotation' at 0x111ec9d18>,\n",
       " <Element 'annotation' at 0x111ec9f48>,\n",
       " <Element 'annotation' at 0x111ecc1d8>]"
      ]
     },
     "execution_count": 11,
     "metadata": {},
     "output_type": "execute_result"
    }
   ],
   "source": [
    "annotation_strings"
   ]
  },
  {
   "cell_type": "code",
   "execution_count": 31,
   "metadata": {
    "collapsed": false
   },
   "outputs": [],
   "source": [
    "#print(type(definitive_mention))\n",
    "#tagObject1 = definitive_mention.nodes()[0]\n",
    "#tagObject1.getSpan()"
   ]
  },
  {
   "cell_type": "markdown",
   "metadata": {},
   "source": [
    "### XML\n",
    "This part of the pipeline takes all of the annotations from above and writes it into a Knowtator XML file. It is not yet able to be imported into eHOST"
   ]
  },
  {
   "cell_type": "code",
   "execution_count": 32,
   "metadata": {
    "collapsed": false
   },
   "outputs": [
    {
     "name": "stdout",
     "output_type": "stream",
     "text": [
      "<annotation> \n",
      "                <mention id = \"87755444399442573673560300471482506192\" /> \n",
      "                <annotator id=>FC_FINDER</annotator> \n",
      "                <span start=\"0\" end=\"152\" />\n",
      "                <spannedText>[**2659-8-24**] 2:25 pm ct abd w&w/o c; ct pelvis w/contrast clip # [**clip number (radiology) 67740**] reason: evaluation for abscess and pancreasitis.</spannedText>\n",
      "                <creationDate>Thu Feb  2 13:57:51 2017</creationDate>\n",
      "        </annotation>\n",
      "        <classMention id=\"87755444399442573673560300471482506192\">\n",
      "                <mentionClass id=\"fluid collection-indication\">[**2659-8-24**] 2:25 pm ct abd w&w/o c; ct pelvis w/contrast clip # [**clip number (radiology) 67740**] reason: evaluation for abscess and pancreasitis.</mentionClass>\n",
      "        </classMention>\n"
     ]
    }
   ],
   "source": [
    "#annotation1 = fcClasses.createAnnotations(definitive_mention,'fluid collection-definitive','Yes_28226_116465_05-29-93.txt')[0]\n",
    "annotation1 = annotations1[0]\n",
    "XML1 = annotation1.getXML()\n",
    "print(XML1)"
   ]
  },
  {
   "cell_type": "code",
   "execution_count": 33,
   "metadata": {
    "collapsed": true
   },
   "outputs": [],
   "source": [
    "#XML1 = fcClasses.getXML(annotation1)"
   ]
  },
  {
   "cell_type": "code",
   "execution_count": 34,
   "metadata": {
    "collapsed": false
   },
   "outputs": [],
   "source": [
    "#print(XML1)\n",
    "#importlib.reload(fc)"
   ]
  },
  {
   "cell_type": "code",
   "execution_count": 18,
   "metadata": {
    "collapsed": false
   },
   "outputs": [
    {
     "name": "stdout",
     "output_type": "stream",
     "text": [
      "9\n",
      "/Users/alec/Desktop/fcFinder_test/saved/Yes_28226_116465_05-29-93.txt.knowtator.xml\n"
     ]
    }
   ],
   "source": [
    "print(len(annotation_strings))\n",
    "#print(len(fc.writeKnowtator(annotation_strings,report_name,os.path.join('..','XML_examples'))))\n",
    "print(fc.writeKnowtator(annotation_strings,report_name,os.path.join('/Users/alec/Desktop/fcFinder_test','saved')))"
   ]
  },
  {
   "cell_type": "markdown",
   "metadata": {},
   "source": [
    "### One pipelined function for one file"
   ]
  },
  {
   "cell_type": "code",
   "execution_count": 15,
   "metadata": {
    "collapsed": false
   },
   "outputs": [
    {
     "data": {
      "text/plain": [
       "['[**2659-8-24**] 2:25 PM CT ABD W&W/O C; CT PELVIS W/CONTRAST Clip # [**Clip Number (Radiology) 67740**] Reason: evaluation for abscess and pancreasitis.',\n",
       " 'NEEDS TO HAVE BOTH Admitting Diagnosis: ABDOMINAL PAIN Contrast: OPTIRAY Amt: 130 ______________________________________________________________________________ UNDERLYING MEDICAL CONDITION: 52M pancreatitis, ARF s/p EX lap, LOA, serosal repair x 5 REASON FOR THIS EXAMINATION: evaluation for abscess and pancreasitis.',\n",
       " 'NEEDS TO HAVE BOTH IV and PO Contrast No contraindications for IV contrast ______________________________________________________________________________ PROVISIONAL FINDINGS IMPRESSION (PFI): FBr WED [**2659-8-24**] 6:15 PM Interval increase in size of the multiloculated fluid collection, however, they are not still feasible for percutaneous drainage.',\n",
       " '______________________________________________________________________________ FINAL REPORT INDICATION: 52-year-old man with pancreatitis and acute renal failure, please evaluate for abscess and pancreatitis.',\n",
       " 'Comparison is made to the prior CT of [**2659-8-8**].',\n",
       " 'TECHNIQUE: Axial MDCT images were obtained from thoracic inlet to the symphysis pubis after administration of 130 cc of Optiray intravenously.',\n",
       " 'Oral contrast was also used.',\n",
       " 'Sagittal and coronal reformatted images were then obtained.',\n",
       " 'CT OF THE ABDOMEN WITH IV CONTRAST: Increase in left pleural effusion.',\n",
       " 'Bibasilar atelectasis, left greater than right.',\n",
       " 'The liver contains a small hypodense lesion within its dome which is too small to characterize.',\n",
       " 'The spleen, adrenal glands, kidneys, gallbladder and common bile duct have normal appearance.',\n",
       " 'The pancreas enhances homogeneously and there is no evidence of pancreatic necrosis and post-distal pneumonic and post-distal pneumonic lobe.',\n",
       " 'Portal vein, splenic vein, and superior mesenteric vein are [atent withno thrombus.',\n",
       " 'No pseudoaneurysm is visualized.',\n",
       " 'The multiloculated fluid collection in the lesser sac and in the left anterior pararenal space extending into the left lower pelvis have midly increased in size.',\n",
       " 'There is also a new collection within the anterior abdominal wall.',\n",
       " 'In general, there has been interval unification of some of the locules.',\n",
       " 'The transverse colon and splenic flexure of the colon are also involved in this inflammatory process with bowel wall thickening and serosal tethering.',\n",
       " 'There is also diffuse saponification of the omentum and the mesentery consistent with severe pancreatitis.',\n",
       " 'No evidence of bowel obstruction is noted, however, there is diffuse small bowel wall thickening compatible with third-spacing.',\n",
       " 'Two locules of free air are noted in the anterior abdomen most likely related to the recent laparotomy.',\n",
       " 'CT OF THE PELVIS WITH IV CONTRAST: The urinary bladder, distal ureter, rectum and sigmoid colon have normal appearance.',\n",
       " 'No pathologically enlarged pelvic (Over) [**2659-8-24**] 2:25 PM CT ABD W&W/O C; CT PELVIS W/CONTRAST Clip # [**Clip Number (Radiology) 67740**] Reason: evaluation for abscess and pancreasitis.',\n",
       " 'NEEDS TO HAVE BOTH Admitting Diagnosis: ABDOMINAL PAIN Contrast: OPTIRAY Amt: 130 ______________________________________________________________________________ FINAL REPORT (Cont) or inguinal nodes are noted.',\n",
       " 'No free air or fluid is noted within the pelvis.',\n",
       " 'IMPRESSION: 1.',\n",
       " 'Interval increase in peripancreatic inflammatory changes and interval unification of some of the multiloculated fluid collection in the left pericolic gutter and in the lesser sac.',\n",
       " 'New areas of fluid collection are noted in the anterior abdominal wall.',\n",
       " 'Percutaneous drainage is not feasible given the multiple internal septations.',\n",
       " '2.',\n",
       " 'No evidence of pancreatic necrosis or venous thrombosis or pseudoaneurysm.',\n",
       " '3.',\n",
       " 'Thickening of the splenic flexure of the colon and distal transverse colon.',\n",
       " '4.',\n",
       " 'Interval increase in left pleural effusion and associated atelectasis.']"
      ]
     },
     "execution_count": 15,
     "metadata": {},
     "output_type": "execute_result"
    }
   ],
   "source": [
    "sentenceSplitter = helpers.sentenceSplitter()\n",
    "sentenceSplitter.splitSentences(report)"
   ]
  },
  {
   "cell_type": "code",
   "execution_count": 17,
   "metadata": {
    "collapsed": false
   },
   "outputs": [
    {
     "name": "stdout",
     "output_type": "stream",
     "text": [
      "Definitive evidence: 5 \n",
      " Negated evidence: 0 \n",
      " Indication: 4 \n"
     ]
    },
    {
     "data": {
      "text/plain": [
       "'/Users/alec/Desktop/fcFinder_test/saved3/Yes_28226_116465_05-29-93.txt.knowtator.xml'"
      ]
     },
     "execution_count": 17,
     "metadata": {},
     "output_type": "execute_result"
    }
   ],
   "source": [
    "importlib.reload(fc)\n",
    "\n",
    "input_report2 = '/Users/alec/Box Sync/Adjudication/Batch_3/corpus/No_69411_129942_04-30-58.txt'\n",
    "os.getcwd()\n",
    "\n",
    "def fcFinder(input_report, output_dir, modifiers=modifiers, targets=targets):\n",
    "    if not os.path.exists(output_dir):\n",
    "        os.mkdir(os.path.join(output_dir,'saved'))\n",
    "    report = ''\n",
    "    with open(input_report,'r') as f0:\n",
    "        report += f0.read()\n",
    "    context = fc.create_context_doc(report, modifiers, targets)\n",
    "    report_name = os.path.basename(input_report)\n",
    "    annotations = fc.fluid_collection_classifier(context,input_report)\n",
    "    #for x in annotations:\n",
    "        #print(type(x))\n",
    "    #return\n",
    "    #XML_strings = [x.getXML() for x in annotations]\n",
    "    return fc.writeKnowtator(annotations,report_name,os.path.join(output_dir,'saved3'))\n",
    "\n",
    "findings = fcFinder(input_report,'/Users/alec/Desktop/fcFinder_test')\n",
    "###2/3/17: Need to figure out how to turn XML into a string\n",
    "findings"
   ]
  },
  {
   "cell_type": "markdown",
   "metadata": {},
   "source": [
    "#### Batches of Documents (not ready yet)"
   ]
  },
  {
   "cell_type": "code",
   "execution_count": 127,
   "metadata": {
    "collapsed": false
   },
   "outputs": [
    {
     "ename": "AttributeError",
     "evalue": "'bool' object has no attribute 'rfind'",
     "output_type": "error",
     "traceback": [
      "\u001b[0;31m---------------------------------------------------------------------------\u001b[0m",
      "\u001b[0;31mAttributeError\u001b[0m                            Traceback (most recent call last)",
      "\u001b[0;32m<ipython-input-127-1588370114d1>\u001b[0m in \u001b[0;36m<module>\u001b[0;34m()\u001b[0m\n\u001b[1;32m     21\u001b[0m     \u001b[0;32mreturn\u001b[0m \u001b[0moutput_dir\u001b[0m\u001b[0;34m\u001b[0m\u001b[0m\n\u001b[1;32m     22\u001b[0m     \u001b[0;32mreturn\u001b[0m \u001b[0mlistOfBatches\u001b[0m\u001b[0;34m\u001b[0m\u001b[0m\n\u001b[0;32m---> 23\u001b[0;31m \u001b[0mfcFinder_batches\u001b[0m\u001b[0;34m(\u001b[0m\u001b[0;34m'/Users/alec/Box Sync/Adjudication'\u001b[0m\u001b[0;34m,\u001b[0m\u001b[0;34m'Batch*'\u001b[0m\u001b[0;34m,\u001b[0m\u001b[0;34m'/Users/alec/Desktop/fcFinder_test'\u001b[0m\u001b[0;34m)\u001b[0m\u001b[0;34m\u001b[0m\u001b[0m\n\u001b[0m",
      "\u001b[0;32m<ipython-input-127-1588370114d1>\u001b[0m in \u001b[0;36mfcFinder_batches\u001b[0;34m(batch_path, batch_schema, output_dir, targets, modifiers)\u001b[0m\n\u001b[1;32m     16\u001b[0m                 \u001b[0;32mif\u001b[0m \u001b[0;32mnot\u001b[0m \u001b[0mos\u001b[0m\u001b[0;34m.\u001b[0m\u001b[0mpath\u001b[0m\u001b[0;34m.\u001b[0m\u001b[0mexists\u001b[0m\u001b[0;34m(\u001b[0m\u001b[0mos\u001b[0m\u001b[0;34m.\u001b[0m\u001b[0mpath\u001b[0m\u001b[0;34m.\u001b[0m\u001b[0mjoin\u001b[0m\u001b[0;34m(\u001b[0m\u001b[0moutput_dir\u001b[0m\u001b[0;34m,\u001b[0m\u001b[0mbatch\u001b[0m\u001b[0;34m)\u001b[0m\u001b[0;34m)\u001b[0m\u001b[0;34m:\u001b[0m\u001b[0;34m\u001b[0m\u001b[0m\n\u001b[1;32m     17\u001b[0m                     \u001b[0mos\u001b[0m\u001b[0;34m.\u001b[0m\u001b[0mmkdir\u001b[0m\u001b[0;34m(\u001b[0m\u001b[0mos\u001b[0m\u001b[0;34m.\u001b[0m\u001b[0mpath\u001b[0m\u001b[0;34m.\u001b[0m\u001b[0mexists\u001b[0m\u001b[0;34m(\u001b[0m\u001b[0moutput_dir\u001b[0m\u001b[0;34m,\u001b[0m\u001b[0mbat\u001b[0m\u001b[0;34m)\u001b[0m\u001b[0;34m)\u001b[0m\u001b[0;34m\u001b[0m\u001b[0m\n\u001b[0;32m---> 18\u001b[0;31m                 \u001b[0mfcFinder\u001b[0m\u001b[0;34m(\u001b[0m\u001b[0mfile_path\u001b[0m\u001b[0;34m,\u001b[0m\u001b[0mmodifiers\u001b[0m\u001b[0;34m,\u001b[0m\u001b[0mtargets\u001b[0m\u001b[0;34m,\u001b[0m\u001b[0mos\u001b[0m\u001b[0;34m.\u001b[0m\u001b[0mpath\u001b[0m\u001b[0;34m.\u001b[0m\u001b[0mjoin\u001b[0m\u001b[0;34m(\u001b[0m\u001b[0moutput_dir\u001b[0m\u001b[0;34m,\u001b[0m\u001b[0mbatch\u001b[0m\u001b[0;34m)\u001b[0m\u001b[0;34m)\u001b[0m\u001b[0;34m\u001b[0m\u001b[0m\n\u001b[0m\u001b[1;32m     19\u001b[0m \u001b[0;34m\u001b[0m\u001b[0m\n\u001b[1;32m     20\u001b[0m     \u001b[0;32mreturn\u001b[0m \u001b[0mcounter\u001b[0m\u001b[0;34m\u001b[0m\u001b[0m\n",
      "\u001b[0;32m<ipython-input-108-7c70eebd7375>\u001b[0m in \u001b[0;36mfcFinder\u001b[0;34m(input_report, modifiers, targets, output_dir)\u001b[0m\n\u001b[1;32m      7\u001b[0m         \u001b[0mreport\u001b[0m \u001b[0;34m+=\u001b[0m \u001b[0mf0\u001b[0m\u001b[0;34m.\u001b[0m\u001b[0mread\u001b[0m\u001b[0;34m(\u001b[0m\u001b[0;34m)\u001b[0m\u001b[0;34m\u001b[0m\u001b[0m\n\u001b[1;32m      8\u001b[0m     \u001b[0mcontext\u001b[0m \u001b[0;34m=\u001b[0m \u001b[0mfc\u001b[0m\u001b[0;34m.\u001b[0m\u001b[0mcreate_context_doc\u001b[0m\u001b[0;34m(\u001b[0m\u001b[0mreport\u001b[0m\u001b[0;34m,\u001b[0m \u001b[0mmodifiers\u001b[0m\u001b[0;34m,\u001b[0m \u001b[0mtargets\u001b[0m\u001b[0;34m)\u001b[0m\u001b[0;34m\u001b[0m\u001b[0m\n\u001b[0;32m----> 9\u001b[0;31m     \u001b[0mreport_name\u001b[0m \u001b[0;34m=\u001b[0m \u001b[0mos\u001b[0m\u001b[0;34m.\u001b[0m\u001b[0mpath\u001b[0m\u001b[0;34m.\u001b[0m\u001b[0mbasename\u001b[0m\u001b[0;34m(\u001b[0m\u001b[0minput_report\u001b[0m\u001b[0;34m)\u001b[0m\u001b[0;34m\u001b[0m\u001b[0m\n\u001b[0m\u001b[1;32m     10\u001b[0m     \u001b[0mannotations\u001b[0m \u001b[0;34m=\u001b[0m \u001b[0mfc\u001b[0m\u001b[0;34m.\u001b[0m\u001b[0mfluid_collection_classifier\u001b[0m\u001b[0;34m(\u001b[0m\u001b[0mcontext\u001b[0m\u001b[0;34m,\u001b[0m\u001b[0minput_report\u001b[0m\u001b[0;34m)\u001b[0m\u001b[0;34m\u001b[0m\u001b[0m\n\u001b[1;32m     11\u001b[0m     \u001b[0mXML_strings\u001b[0m \u001b[0;34m=\u001b[0m \u001b[0;34m[\u001b[0m\u001b[0mx\u001b[0m\u001b[0;34m.\u001b[0m\u001b[0mgetXML\u001b[0m\u001b[0;34m(\u001b[0m\u001b[0;34m)\u001b[0m \u001b[0;32mfor\u001b[0m \u001b[0mx\u001b[0m \u001b[0;32min\u001b[0m \u001b[0mannotations\u001b[0m\u001b[0;34m]\u001b[0m\u001b[0;34m\u001b[0m\u001b[0m\n",
      "\u001b[0;32m/Users/alec/anaconda/lib/python3.5/posixpath.py\u001b[0m in \u001b[0;36mbasename\u001b[0;34m(p)\u001b[0m\n\u001b[1;32m    137\u001b[0m     \u001b[0;34m\"\"\"Returns the final component of a pathname\"\"\"\u001b[0m\u001b[0;34m\u001b[0m\u001b[0m\n\u001b[1;32m    138\u001b[0m     \u001b[0msep\u001b[0m \u001b[0;34m=\u001b[0m \u001b[0m_get_sep\u001b[0m\u001b[0;34m(\u001b[0m\u001b[0mp\u001b[0m\u001b[0;34m)\u001b[0m\u001b[0;34m\u001b[0m\u001b[0m\n\u001b[0;32m--> 139\u001b[0;31m     \u001b[0mi\u001b[0m \u001b[0;34m=\u001b[0m \u001b[0mp\u001b[0m\u001b[0;34m.\u001b[0m\u001b[0mrfind\u001b[0m\u001b[0;34m(\u001b[0m\u001b[0msep\u001b[0m\u001b[0;34m)\u001b[0m \u001b[0;34m+\u001b[0m \u001b[0;36m1\u001b[0m\u001b[0;34m\u001b[0m\u001b[0m\n\u001b[0m\u001b[1;32m    140\u001b[0m     \u001b[0;32mreturn\u001b[0m \u001b[0mp\u001b[0m\u001b[0;34m[\u001b[0m\u001b[0mi\u001b[0m\u001b[0;34m:\u001b[0m\u001b[0;34m]\u001b[0m\u001b[0;34m\u001b[0m\u001b[0m\n\u001b[1;32m    141\u001b[0m \u001b[0;34m\u001b[0m\u001b[0m\n",
      "\u001b[0;31mAttributeError\u001b[0m: 'bool' object has no attribute 'rfind'"
     ]
    }
   ],
   "source": [
    "### Need to work on this ###\n",
    "def fcFinder_batches(batch_path, batch_schema,output_dir, targets=targets,modifiers=modifiers):\n",
    "    batches = batch_path+'//%s'%batch_schema\n",
    "    #return os.listdir(batch_path)\n",
    "    listOfBatches = glob.glob(batches)\n",
    "    counter = 0\n",
    "    #return listOfBatches\n",
    "    for batch in listOfBatches:\n",
    "        #print(batch)\n",
    "        corpus = os.path.join(batch,'corpus')\n",
    "        for file in os.listdir(corpus):\n",
    "            file_path = os.path.isfile(os.path.join(batch,corpus,file))\n",
    "            #print(file)\n",
    "            counter += 1\n",
    "            if os.path.isfile(os.path.join(batch,corpus,file)):\n",
    "                #print(file)\n",
    "                if not os.path.exists(os.path.join(output_dir,batch)):\n",
    "                    os.mkdir(os.path.exists(output_dir,bat))\n",
    "                fcFinder(file_path,modifiers,targets,os.path.join(output_dir,batch))\n",
    "                    \n",
    "    return counter\n",
    "    return output_dir\n",
    "    return listOfBatches\n",
    "fcFinder_batches('/Users/alec/Box Sync/Adjudication','Batch*','/Users/alec/Desktop/fcFinder_test')"
   ]
  },
  {
   "cell_type": "code",
   "execution_count": 71,
   "metadata": {
    "collapsed": false
   },
   "outputs": [
    {
     "data": {
      "text/plain": [
       "'/Users/alec/Box Sync/Bucher_Surgical_MIMICIII/pyConText_implement/fcFinder/XML_examples/Yes_28226_116465_05-29-93.txt.knowtator.xml'"
      ]
     },
     "execution_count": 71,
     "metadata": {},
     "output_type": "execute_result"
    }
   ],
   "source": [
    "fcFinder(input_report, modifiers, targets, os.getcwd())"
   ]
  },
  {
   "cell_type": "code",
   "execution_count": 69,
   "metadata": {
    "collapsed": false
   },
   "outputs": [
    {
     "data": {
      "text/plain": [
       "'/Users/alec/Box Sync/Bucher_Surgical_MIMICIII/pyConText_implement/fcFinder/XML_examples/No_69411_129942_04-30-58.txt.knowtator.xml'"
      ]
     },
     "execution_count": 69,
     "metadata": {},
     "output_type": "execute_result"
    }
   ],
   "source": [
    "fcFinder(input_report2, modifiers, targets, os.getcwd())"
   ]
  },
  {
   "cell_type": "markdown",
   "metadata": {},
   "source": [
    "### Catching anatomical modifiers and creating annotations out of them"
   ]
  },
  {
   "cell_type": "code",
   "execution_count": 57,
   "metadata": {
    "collapsed": false
   },
   "outputs": [
    {
     "data": {
      "text/plain": [
       "(0, __________________________________________\n",
       " rawText: [**2659-8-24**] 2:25 pm\n",
       "  ct abd w&w/o c; ct pelvis w/contrast                            clip # [**clip number (radiology) 67740**]\n",
       "  reason: evaluation for abscess and pancreasitis.\n",
       " cleanedText: [**2659-8-24**] 2:25 pm ct abd w&w/o c; ct pelvis w/contrast clip # [**clip number (radiology) 67740**] reason: evaluation for abscess and pancreasitis.\n",
       " ********************************\n",
       " TARGET: <id> 59056097846300117885128082136604531664 </id> <phrase> abscess </phrase> <category> ['fluid_collection'] </category> \n",
       " ----MODIFIED BY: <id> 59052832695266580023396077266003221456 </id> <phrase> pelvis </phrase> <category> ['anatomy'] </category> \n",
       " ----MODIFIED BY: <id> 59055915463070010046424622230320634832 </id> <phrase> evaluation for </phrase> <category> ['indication'] </category> \n",
       " __________________________________________)"
      ]
     },
     "execution_count": 57,
     "metadata": {},
     "output_type": "execute_result"
    }
   ],
   "source": [
    "markup2 = context.getSectionMarkups()[0]\n",
    "markup2"
   ]
  },
  {
   "cell_type": "code",
   "execution_count": null,
   "metadata": {
    "collapsed": true
   },
   "outputs": [],
   "source": []
  }
 ],
 "metadata": {
  "anaconda-cloud": {},
  "kernelspec": {
   "display_name": "Python [default]",
   "language": "python",
   "name": "python3"
  },
  "language_info": {
   "codemirror_mode": {
    "name": "ipython",
    "version": 3
   },
   "file_extension": ".py",
   "mimetype": "text/x-python",
   "name": "python",
   "nbconvert_exporter": "python",
   "pygments_lexer": "ipython3",
   "version": "3.5.2"
  }
 },
 "nbformat": 4,
 "nbformat_minor": 1
}
